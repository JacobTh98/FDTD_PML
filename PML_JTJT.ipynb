{
 "cells": [
  {
   "cell_type": "markdown",
   "id": "d8d2533c-d7d7-4093-a658-81fc353fdb67",
   "metadata": {},
   "source": [
    "# Perfectly matched Layer\n",
    "The perfectly matched layer (PML) is the theoratical approach for the boundary in sumulating an open field. The \"real\" open field would not have any boundary. With the FDTD we need a boundary conditions to be able to do a simulation. The perfect boundary for the simluation would absorbe all incoming waves. The PML is an effective approach to simulate such an absorbing boundary."
   ]
  },
  {
   "cell_type": "markdown",
   "id": "702a34e0-8e55-4d51-8c06-211fb6c6a728",
   "metadata": {},
   "source": [
    "### Historical Background: The Berenger´s split field formulation\n",
    "\n",
    "The Berenger´s split field formulation is the simplest and most efficient approach in two dimensions. The reason for this is that, contrary to the (Uniaxial) UPML, we can avoid the storage requirements of electric and magnetic flux vectors and the additional complexity due to dealing with dispersive materials. It is important to note that this benefit accrues only in two dimensions.\n",
    "\n",
    "Berenger recognized that an additional degree of freedom would permit a match off normal as well. He did this by splitting the transverse fields into two orthogonal components, for example $H_z = H_{zx} + H_{zy}$. Applying this to a two-dimensional TE problem described by the Maxwell-equations with lossless materials _(Eq: 3.5 - 3.7)_:\n",
    "\n",
    "$$\\frac{\\partial E_x}{\\partial t} = \\frac{1}{\\epsilon}\\frac{\\partial H_z}{\\partial y}$$\n",
    "\n",
    "$$\\frac{\\partial E_y}{\\partial t} = -\\frac{1}{\\epsilon}\\frac{\\partial H_z}{\\partial x}$$\n",
    "\n",
    "$$\\frac{\\partial H_z}{\\partial t} = \\frac{1}{\\mu} \\biggl(\\frac{\\partial E_x}{\\partial y} - \\frac{\\partial E_y}{\\partial x} \\biggl)$$\n",
    "\n",
    "result in four equations:\n",
    "\n",
    "$$\\frac{\\partial E_x}{\\partial t} = \\frac{1}{\\epsilon} \\frac{\\partial (H_{zx} + H_{zy})}{\\partial y}$$\n",
    "\n",
    "$$\\frac{\\partial E_y}{\\partial t} = -\\frac{1}{\\epsilon} \\frac{\\partial (H_{zx} + H_{zy})}{\\partial x}$$\n",
    "\n",
    "$$\\frac{\\partial H_{zx}}{\\partial t} = -\\frac{1}{\\mu}\\frac{\\partial E_y}{\\partial x}$$\n",
    "\n",
    "$$\\frac{\\partial H_{zy}}{\\partial t} = \\frac{1}{\\mu}\\frac{\\partial E_x}{\\partial y}$$"
   ]
  },
  {
   "cell_type": "markdown",
   "id": "0ec77dba-b20a-4096-990b-23f2276d6812",
   "metadata": {},
   "source": [
    "### The FDTD update equations for a PML\n",
    "\n",
    "With the theoretical background, associated with two components of $\\sigma^*$ ($\\sigma_x^*$ and $\\sigma_y^*$) and two components of $\\sigma$ ($\\sigma_x$ and $\\sigma_y$), describing the electrical ($\\sigma$) and magnetic ($\\sigma^*$) loss, the time domain equations are _(Eq.: 3.58 - 3.61)_:\n",
    "\n",
    "$$ \\biggl( \\epsilon \\frac{\\partial}{\\partial t}+\\sigma_y \\biggl) E_x = \\frac{\\partial(H_{zx}+H_{zy})}{\\partial y}$$\n",
    "\n",
    "$$ \\biggl( \\epsilon \\frac{\\partial}{\\partial t}+\\sigma_x \\biggl) E_x = -\\frac{\\partial(H_{zx}+H_{zy})}{\\partial x}$$\n",
    "\n",
    "$$ \\biggl( \\mu \\frac{\\partial}{\\partial t}+\\sigma_x^* \\biggl) H_zx = -\\frac{\\partial E_y}{\\partial x}$$\n",
    "\n",
    "$$ \\biggl( \\mu \\frac{\\partial}{\\partial t}+\\sigma_y^* \\biggl) H_zy = \\frac{\\partial E_x}{\\partial y}$$\n",
    "\n",
    "To evaluate the electric field, we use the _semi-implicit_ approximation. It is needed, because of the problem of evaluating the electric field at a half time step. The required value is computed as the average of the previous (known) value and the as-yet-to-be-computed value:\n",
    "\n",
    "$$E_x\\biggl(i+\\frac{1}{2},j,n+\\frac{1}{2}\\biggl)= \\frac{E_x(i+\\frac{1}{2},j,n+1)+E_x(i+\\frac{1}{2},j,n)}{2}$$\n",
    "\n",
    "Using this approximation, and otherwise proceeding as before, the result is the following set of update equations _(Eq.: 3.63 - 3.66)_:\n",
    "\n",
    "$$H_{zx}(i,j,n)=D_{a_{Hzx}}(i,j)\\cdot H_{zx}(i,j,n-1)-D_{b_{Hzx}}(i,j)\\cdot [E_y(i+1,j,n) - E_y(i,j,n)]$$\n",
    "\n",
    "$$H_{zy}(i,j,n)=D_{a_{Hzy}}(i,j)\\cdot H_{zy}(i,j,n-1)-D_{b_{Hzy}}(i,j)\\cdot [E_x(i,j+1,n) - E_x(i,j,n)]$$\n",
    "\n",
    "$$E_x(i,j,n+1)=C_{a_{Ex}}(i,j)\\cdot E_{x}(i,j,n)+C_{b_{Ex}}(i,j)\\cdot [H_z(i,j,n) - H_z(i,j-1,n)]$$\n",
    "\n",
    "$$E_y(i,j,n+1)=C_{a_{Ey}}(i,j)\\cdot E_y(i,j,n)-C_{b_{Ey}}(i,j)\\cdot [H_z(i,j,n) - H_z(i-1,j,n)]$$\n",
    "\n",
    ", where we have combined the $H$ field _(Eq.:3.67)_:\n",
    "\n",
    "$$H_z(i,j,n) = H_{zx}(i,j,n)+H_{zy}(i,j,n)$$\n",
    "\n",
    "and the material constants as _(Eq.:3.68 - 3.75)_:\n",
    "\n",
    "$$C_{a_{Ex}} (i,j) = \\frac{1 - \\frac{\\sigma_y(i,j)\\Delta t}{2\\epsilon(i,j)}}{1+ \\frac{\\sigma_y(i,j)\\Delta t}{2 \\epsilon (i,j)}} \\qquad \\qquad \\qquad \n",
    "C_{b_{Ex}} (i,j) = \\frac{\\frac{\\Delta t}{\\epsilon(i,j) \\Delta y}}{1+ \\frac{\\sigma_y(i,j)\\Delta t}{2 \\epsilon (i,j)}}$$\n",
    "\n",
    "$$C_{a_{Ey}} (i,j) = \\frac{1 - \\frac{\\sigma_x(i,j)\\Delta t}{2\\epsilon(i,j)}}{1+ \\frac{\\sigma_x(i,j)\\Delta t}{2 \\epsilon (i,j)}} \\qquad \\qquad \\qquad\n",
    "C_{b_{Ey}} (i,j) = \\frac{\\frac{\\Delta t}{\\epsilon(i,j) \\Delta x}}{1+ \\frac{\\sigma_x(i,j)\\Delta t}{2 \\epsilon (i,j)}}$$\n",
    "\n",
    "$$D_{a_{Hzx}}(i,j) = \\frac{1 - \\frac{\\sigma_x^*(i,j)\\Delta t}{2\\mu(i,j)}}{1+ \\frac{\\sigma_x^*(i,j)\\Delta t}{2 \\mu (i,j)}} \\qquad \\qquad \\qquad\n",
    "D_{b_{Hzx}} (i,j) = \\frac{\\frac{\\Delta t}{\\mu (i,j) \\Delta x}}{1+ \\frac{\\sigma_x^*(i,j)\\Delta t}{2 \\mu (i,j)}}$$\n",
    "\n",
    "$$D_{a_{Hzy}} (i,j) = \\frac{1 - \\frac{\\sigma_y^*(i,j)\\Delta t}{2\\mu (i,j)}}{1+ \\frac{\\sigma_x^*(i,j)\\Delta t}{2 \\mu (i,j)}} \\qquad \\qquad \\qquad\n",
    "D_{b_{Hzy}} (i,j) = \\frac{\\frac{\\Delta t}{\\mu(i,j) \\Delta y}}{1+ \\frac{\\sigma_y^*(i,j)\\Delta t}{2 \\mu (i,j)}}$$"
   ]
  },
  {
   "cell_type": "markdown",
   "id": "e87aa45d-a8d4-4203-ba68-1562659d5012",
   "metadata": {},
   "source": [
    "## Simulation"
   ]
  },
  {
   "cell_type": "markdown",
   "id": "a706c123-caca-46a1-9f6a-7cf614f77091",
   "metadata": {},
   "source": [
    "The code allows to simulate different scenarios. The simulation region is defined by the the steps and the spatial distance of each step. In this region we can place a line source and a PEC cylinder. The choosen area will be plottet later on."
   ]
  },
  {
   "cell_type": "code",
   "execution_count": 1,
   "id": "57095605-7f87-48a1-9b26-1d2abdc30e61",
   "metadata": {},
   "outputs": [],
   "source": [
    "using GeometryBasics\n",
    "using CairoMakie\n",
    "using Plots"
   ]
  },
  {
   "cell_type": "code",
   "execution_count": 2,
   "id": "674170d7-9e9f-4869-b889-19bba469d82d",
   "metadata": {},
   "outputs": [],
   "source": [
    "line_source = false;\n",
    "cyl_present = true;"
   ]
  },
  {
   "cell_type": "markdown",
   "id": "d3a40a1a-dc6c-486e-8f74-4a44287d5f0d",
   "metadata": {},
   "source": [
    "Beside the simulation area different physical constants need to be defined. "
   ]
  },
  {
   "cell_type": "code",
   "execution_count": 3,
   "id": "78df7241-a09d-4af5-92b1-8804b4c4b6a5",
   "metadata": {},
   "outputs": [],
   "source": [
    "#Physical constants\n",
    "c = 2.997925e8;    # [m/s] Speed of light in vacuum\n",
    "eps_0 = 8.854187817e-12; # [F/m] ϵ_0\n",
    "mu_0 = 4*pi*1e-7;  # [H/m] μ_0\n",
    "eta_0 = sqrt(mu_0/eps_0);"
   ]
  },
  {
   "cell_type": "markdown",
   "id": "70a60d9e-5364-4bbf-99b7-45d1bcd142e1",
   "metadata": {},
   "source": [
    "The simulation area has to be meshed. We choose for the rectengular area a mesh with 200 steps in each direction. "
   ]
  },
  {
   "cell_type": "code",
   "execution_count": 4,
   "id": "96d71626-76cc-48a6-bbb7-f0717356809a",
   "metadata": {},
   "outputs": [],
   "source": [
    "#Simulation area\n",
    "sizeX = 1      # [m] size of simulation region\n",
    "sizeY = 2      # [m] size of simulation region\n",
    "refinement = 200    # [cells/m] \n",
    "N_x = Int(refinement/sizeX)      # number of cells in x-direction\n",
    "N_y = Int(refinement/sizeY)      # number of cells in y-direction\n",
    "delta_s = sizeX/refinement       # [m] spatial step\n",
    "M = 350           # Number of time steps\n",
    "L = Int(round(N_x/2))    # scat/tot field boundary          \n",
    "R = 1                                 # fraction of Courant limit. Must be <= 1\n",
    "delta_t = R * delta_s/(c * sqrt(2))   # [s] Time step size\n",
    "\n",
    "sigma = 5.0e-11      # Controls spectral content of Gaussian derivative pulse equals 1/omega_max\n",
    "m_offset = 4*sigma;  # Controls switch-on time\n",
    "Peak = 1;            # Peak amplitude of E field\n",
    "\n",
    "# PEC cylinder positioniert bei x=0.75m y=0.5m.\n",
    "radius = 0.03 # [m] radius of cylinder\n",
    "N_centre_x = Int(round(0.75*N_x))\n",
    "N_centre_y = Int(round(0.5*N_y));"
   ]
  },
  {
   "cell_type": "markdown",
   "id": "17f052eb-9856-44f1-8e35-b83c392a21b2",
   "metadata": {},
   "source": [
    "Setting up the material grid an the PML"
   ]
  },
  {
   "cell_type": "code",
   "execution_count": 5,
   "id": "c77892c3-0c5c-4fd2-a44f-f75821df5842",
   "metadata": {},
   "outputs": [],
   "source": [
    "# Set up material grid (free space to start)\n",
    "sigma_x = zeros(N_x,N_y);\n",
    "sigma_y = zeros(N_x,N_y);\n",
    "sigma_ast_x = zeros(N_x,N_y);\n",
    "sigma_ast_y = zeros(N_x,N_y);"
   ]
  },
  {
   "cell_type": "code",
   "execution_count": 6,
   "id": "2701460a-13e9-4e11-b856-4100b83ec8c0",
   "metadata": {},
   "outputs": [],
   "source": [
    "# Set up PML\n",
    "poly_m = 3\n",
    "sigma_max = 0.8*(poly_m+1)/(eta_0*delta_s)\n",
    "d_cell = 10\n",
    "# For y-absorption.\n",
    "for jj = 1:d_cell\n",
    "    dist = d_cell-(jj-1)\n",
    "    sigma_y[:,jj] .= sigma_max*(dist/d_cell)^poly_m\n",
    "    sigma_y[:,N_y-jj+1] = sigma_y[:,jj]\n",
    "end\n",
    "\n",
    "for jj = 1:d_cell\n",
    "    dist = d_cell-(jj-1)-0.5; # Hz field components located delta/2 away.\n",
    "    sigma_ast_y[:,jj] .= eta_0^2*sigma_max*(dist/d_cell)^poly_m;\n",
    "    sigma_ast_y[:,N_y-jj] = sigma_ast_y[:,jj];\n",
    "end\n",
    "\n",
    "# For x-absorption. Corner regions are automatically overlapped.\n",
    "for ii = 1:d_cell\n",
    "    dist = d_cell-(ii-1);\n",
    "    sigma_x[ii,:] .= sigma_max*(dist/d_cell)^poly_m;\n",
    "    sigma_x[N_x-ii+1,:] = sigma_x[ii,:];\n",
    "end\n",
    "\n",
    "for ii = 1:d_cell\n",
    "    dist = d_cell-(ii-1)-0.5; # Hz field components located delta/2 away.\n",
    "    sigma_ast_x[ii,:] .= eta_0^2*sigma_max*(dist/d_cell)^poly_m;\n",
    "    sigma_ast_x[N_x-ii,:] = sigma_ast_x[ii,:];\n",
    "end"
   ]
  },
  {
   "cell_type": "markdown",
   "id": "c3888187-657d-4ff2-961b-0544318dd7c2",
   "metadata": {},
   "source": [
    "The material constants are defined as:"
   ]
  },
  {
   "cell_type": "code",
   "execution_count": 7,
   "id": "20aefae8-e8c5-4c35-8a44-9adc38cbda8f",
   "metadata": {},
   "outputs": [],
   "source": [
    "C_aEx = (1 .- sigma_y * delta_t / (2*eps_0)) ./ (1 .+sigma_y*delta_t/(2*eps_0)); \n",
    "C_bEx = delta_t / (eps_0*delta_s) ./ (1 .+ sigma_y * delta_t / (2*eps_0));\n",
    "C_aEy = (1 .-sigma_x*delta_t/(2*eps_0))./(1 .+sigma_x*delta_t/(2*eps_0)); \n",
    "C_bEy = delta_t/(eps_0*delta_s)./(1 .+sigma_x*delta_t/(2*eps_0));\n",
    "D_aHzx = (1 .-sigma_ast_x*delta_t/(2*mu_0))./(1 .+sigma_ast_x*delta_t/(2*mu_0)); \n",
    "D_bHzx = delta_t/(mu_0*delta_s)./(1 .+sigma_ast_x*delta_t/(2*mu_0));\n",
    "D_aHzy = (1 .-sigma_ast_y*delta_t/(2*mu_0))./(1 .+sigma_ast_y*delta_t/(2*mu_0)); \n",
    "D_bHzy = delta_t/(mu_0*delta_s)./(1 .+sigma_ast_y*delta_t/(2*mu_0));\n",
    "\n",
    "if cyl_present # Otherwise just leave it as free space\n",
    "    for ii = 1:N_x\n",
    "        for jj = 1:N_y\n",
    "            if (sqrt(((ii-1/2-(N_centre_x-1))*delta_s)^2 + ((jj-1-(N_centre_y-1))*delta_s)^2 ) <= radius) \n",
    "                C_bEx[ii,jj] = 0;\n",
    "            end\n",
    "            if (sqrt(((ii-1-(N_centre_x-1))*delta_s)^2 + ((jj-1/2-(N_centre_y-1))*delta_s)^2 ) <= radius) \n",
    "                C_bEy[ii,jj] = 0;\n",
    "            end\n",
    "        end\n",
    "    end\n",
    "end "
   ]
  },
  {
   "cell_type": "code",
   "execution_count": 8,
   "id": "3cd419da-44bf-406e-af2f-7d054fd7eda9",
   "metadata": {},
   "outputs": [
    {
     "data": {
      "text/plain": [
       "50"
      ]
     },
     "execution_count": 8,
     "metadata": {},
     "output_type": "execute_result"
    }
   ],
   "source": [
    "# Set up storage for time histories.\n",
    "H_z_point1 = zeros(1,M)\n",
    "E_y_point1 = zeros(1,M)\n",
    "point1_x = Int(round(0.6*N_x))\n",
    "point1_y = Int(round(N_y/2))"
   ]
  },
  {
   "cell_type": "code",
   "execution_count": 9,
   "id": "b60130d9-5d69-4e2c-a7bd-7ed78e9bf372",
   "metadata": {},
   "outputs": [
    {
     "data": {
      "image/png": "[encoded data removed]",
      "text/plain": [
       "Figure()"
      ]
     },
     "execution_count": 9,
     "metadata": {},
     "output_type": "execute_result"
    }
   ],
   "source": [
    "sim_region = Figure()\n",
    "Axis(sim_region[1, 1], aspect = DataAspect(), title=\"Simulation region\")\n",
    "up_L=poly!(Rect(0, L, N_y,N_y/2 ), color = :grey)\n",
    "un_L=poly!(Rect(0, 0, N_y, N_y/2), color = :black)\n",
    "\n",
    "if cyl_present\n",
    "    Cyl =poly!(Circle(Point2f0(\n",
    "        N_centre_y, N_centre_x),\n",
    "        radius/delta_s),\n",
    "        color = :orange,\n",
    "        strokecolor = :black,\n",
    "        strokewidth = 1\n",
    "    )\n",
    "end\n",
    "\n",
    "meas=poly!(Circle(Point2f0(point1_y, point1_x), 1), color = :red)\n",
    "Legend(\n",
    "    sim_region[1, 2],\n",
    "    [up_L, un_L, Cyl, meas],\n",
    "    [\"Total field\", \"Scattered Field\", \"PEC-Cylinder\", \"Point of time history\"]\n",
    ")\n",
    "sim_region"
   ]
  },
  {
   "cell_type": "code",
   "execution_count": 10,
   "id": "9915a26a-6a14-45db-a852-25bc475ebc38",
   "metadata": {},
   "outputs": [
    {
     "data": {
      "text/plain": [
       "gaussder_norm (generic function with 1 method)"
      ]
     },
     "execution_count": 10,
     "metadata": {},
     "output_type": "execute_result"
    }
   ],
   "source": [
    "# First time step - Initialize values for H_z, E_x and E_y\n",
    "H_zx_nmin1 = zeros(N_x,N_y); \n",
    "H_zy_nmin1 = zeros(N_x,N_y); \n",
    "E_x_nmin1 = zeros(N_x,N_y); \n",
    "E_y_nmin1 = zeros(N_x,N_y); \n",
    "# Pre-allocation\n",
    "H_zx_n = zeros(N_x,N_y); \n",
    "H_zy_n = zeros(N_x,N_y); \n",
    "H_z_n = zeros(N_x,N_y); \n",
    "E_x_n = zeros(N_x,N_y); \n",
    "E_y_n = zeros(N_x,N_y);\n",
    "E_y_ninc = zeros(N_y);\n",
    "H_z_ninc = zeros(N_y);\n",
    "# A properly normalized Gaussian derivative pulse\n",
    "function gaussder_norm(t,m,sigma)\n",
    "    y = -exp(0.5)*(t-m)/sigma*exp(-(t-m)^2/(2*sigma^2))\n",
    "    return y\n",
    "end"
   ]
  },
  {
   "cell_type": "code",
   "execution_count": 11,
   "id": "f7950288-fad3-42b6-82b1-1ea0fc005dff",
   "metadata": {},
   "outputs": [],
   "source": [
    "movieH = []\n",
    "gauss = []\n",
    "# Time loop\n",
    "for m = 2:M   \n",
    "    # Update H fields: \n",
    "    H_zx_n[1:N_x-1,1:N_y-1] = D_aHzx[1:N_x-1,1:N_y-1].*H_zx_nmin1[1:N_x-1,1:N_y-1] - \n",
    "        D_bHzx[1:N_x-1,1:N_y-1] .* (E_y_nmin1[2:N_x,1:N_y-1] - E_y_nmin1[1:N_x-1,1:N_y-1])\n",
    "    H_zy_n[1:N_x-1,1:N_y-1] = D_aHzy[1:N_x-1,1:N_y-1].*H_zy_nmin1[1:N_x-1,1:N_y-1] + \n",
    "        D_bHzy[1:N_x-1,1:N_y-1] .* (E_x_nmin1[1:N_x-1,2:N_y] - E_x_nmin1[1:N_x-1,1:N_y-1])\n",
    "    \n",
    "    if line_source \n",
    "        # Drive a test line hard source - used to check basic operation\n",
    "        H_z_n = H_zx_n+H_zy_n\n",
    "        H_z_n[Int(N_x/2),Int(N_y/2)] = gaussder_norm((m-1)*delta_t,m_offset,sigma)\n",
    "    else # Special update on scat/tot field boundary\n",
    "        E_y_nmin1_inc = ones(1,N_y)*Peak*gaussder_norm((m-1)*delta_t - (L-1)*delta_s/c,m_offset,sigma)\n",
    "        H_zx_n[L,1:N_y-1] += D_bHzx[L,1:N_y-1] .* E_y_nmin1_inc[1:N_y-1]\n",
    "        H_z_n = H_zx_n+H_zy_n\n",
    "    end\n",
    "    # Update E fields: note that latest H fields must be used.\n",
    "    E_x_n[2:N_x,2:N_y] = C_aEx[2:N_x,2:N_y] .* E_x_nmin1[2:N_x,2:N_y] + \n",
    "        C_bEx[2:N_x,2:N_y] .* (H_z_n[2:N_x,2:N_y] - H_z_n[2:N_x,1:N_y-1])\n",
    "    E_y_n[2:N_x,2:N_y] = C_aEy[2:N_x,2:N_y] .* E_y_nmin1[2:N_x,2:N_y] - \n",
    "        C_bEy[2:N_x,2:N_y] .* (H_z_n[2:N_x,2:N_y] - H_z_n[1:N_x-1,2:N_y])\n",
    "\n",
    "    if !line_source \n",
    "        # Special update on scat/tot field boundary (only needed for Ey)\n",
    "        H_z_n_inc = ones(1,N_y)*(Peak/eta_0)*gaussder_norm((m-1/2)*delta_t - (L-1/2)*delta_s/c,m_offset,sigma)\n",
    "        E_y_n[L,2:N_y] += C_bEy[L,2:N_y] .* H_z_n_inc[2:N_y]\n",
    "        H_z_ninc = H_z_n_inc\n",
    "    end\n",
    "    \n",
    "    # Fix outer values of E_tangential as PEC:\n",
    "    E_y_n[1,:] .= 0\n",
    "    E_y_n[N_x,:] .= 0\n",
    "    E_x_n[:,1] .= 0\n",
    "    E_x_n[:,N_y] .= 0\n",
    "\n",
    "    # Movie\n",
    "    push!(movieH, (eta_0 .* H_z_n))\n",
    "    \n",
    "    #Time history\n",
    "    H_z_point1[m] = H_z_n[point1_x,point1_y]\n",
    "    E_y_point1[m] = E_y_n[point1_x,point1_y]\n",
    "    \n",
    "    # Update for next iteration\n",
    "    H_zx_nmin1 = H_zx_n\n",
    "    H_zy_nmin1 = H_zy_n\n",
    "    E_x_nmin1 = E_x_n\n",
    "    E_y_nmin1 = E_y_n\n",
    "end"
   ]
  },
  {
   "cell_type": "code",
   "execution_count": 12,
   "id": "ffeb4efe-c574-4c56-b103-4dce0d420a97",
   "metadata": {},
   "outputs": [
    {
     "data": {
      "image/svg+xml": [
       "<?xml version=\"1.0\" encoding=\"utf-8\"?>\n",
       "<svg xmlns=\"http://www.w3.org/2000/svg\" xmlns:xlink=\"http://www.w3.org/1999/xlink\" width=\"600\" height=\"400\" viewBox=\"0 0 2400 1600\">\n",
       "<defs>\n",
       "  <clipPath id=\"clip010\">\n",
       "    <rect x=\"0\" y=\"0\" width=\"2400\" height=\"1600\"/>\n",
       "  </clipPath>\n",
       "</defs>\n",
       "<path clip-path=\"url(#clip010)\" d=\"\n",
       "M0 1600 L2400 1600 L2400 0 L0 0  Z\n",
       "  \" fill=\"#ffffff\" fill-rule=\"evenodd\" fill-opacity=\"1\"/>\n",
       "<defs>\n",
       "  <clipPath id=\"clip011\">\n",
       "    <rect x=\"480\" y=\"0\" width=\"1681\" height=\"1600\"/>\n",
       "  </clipPath>\n",
       "</defs>\n",
       "<path clip-path=\"url(#clip010)\" d=\"\n",
       "M257.204 1423.18 L2352.76 1423.18 L2352.76 47.2441 L257.204 47.2441  Z\n",
       "  \" fill=\"#ffffff\" fill-rule=\"evenodd\" fill-opacity=\"1\"/>\n",
       "<defs>\n",
       "  <clipPath id=\"clip012\">\n",
       "    <rect x=\"257\" y=\"47\" width=\"2097\" height=\"1377\"/>\n",
       "  </clipPath>\n",
       "</defs>\n",
       "<polyline clip-path=\"url(#clip012)\" style=\"stroke:#000000; stroke-linecap:butt; stroke-linejoin:round; stroke-width:2; stroke-opacity:0.1; fill:none\" points=\"\n",
       "  316.512,1423.18 316.512,47.2441 \n",
       "  \"/>\n",
       "<polyline clip-path=\"url(#clip012)\" style=\"stroke:#000000; stroke-linecap:butt; stroke-linejoin:round; stroke-width:2; stroke-opacity:0.1; fill:none\" points=\"\n",
       "  796.835,1423.18 796.835,47.2441 \n",
       "  \"/>\n",
       "<polyline clip-path=\"url(#clip012)\" style=\"stroke:#000000; stroke-linecap:butt; stroke-linejoin:round; stroke-width:2; stroke-opacity:0.1; fill:none\" points=\"\n",
       "  1277.16,1423.18 1277.16,47.2441 \n",
       "  \"/>\n",
       "<polyline clip-path=\"url(#clip012)\" style=\"stroke:#000000; stroke-linecap:butt; stroke-linejoin:round; stroke-width:2; stroke-opacity:0.1; fill:none\" points=\"\n",
       "  1757.48,1423.18 1757.48,47.2441 \n",
       "  \"/>\n",
       "<polyline clip-path=\"url(#clip012)\" style=\"stroke:#000000; stroke-linecap:butt; stroke-linejoin:round; stroke-width:2; stroke-opacity:0.1; fill:none\" points=\"\n",
       "  2237.8,1423.18 2237.8,47.2441 \n",
       "  \"/>\n",
       "<polyline clip-path=\"url(#clip010)\" style=\"stroke:#000000; stroke-linecap:butt; stroke-linejoin:round; stroke-width:4; stroke-opacity:1; fill:none\" points=\"\n",
       "  257.204,1423.18 2352.76,1423.18 \n",
       "  \"/>\n",
       "<polyline clip-path=\"url(#clip010)\" style=\"stroke:#000000; stroke-linecap:butt; stroke-linejoin:round; stroke-width:4; stroke-opacity:1; fill:none\" points=\"\n",
       "  316.512,1423.18 316.512,1406.67 \n",
       "  \"/>\n",
       "<polyline clip-path=\"url(#clip010)\" style=\"stroke:#000000; stroke-linecap:butt; stroke-linejoin:round; stroke-width:4; stroke-opacity:1; fill:none\" points=\"\n",
       "  796.835,1423.18 796.835,1406.67 \n",
       "  \"/>\n",
       "<polyline clip-path=\"url(#clip010)\" style=\"stroke:#000000; stroke-linecap:butt; stroke-linejoin:round; stroke-width:4; stroke-opacity:1; fill:none\" points=\"\n",
       "  1277.16,1423.18 1277.16,1406.67 \n",
       "  \"/>\n",
       "<polyline clip-path=\"url(#clip010)\" style=\"stroke:#000000; stroke-linecap:butt; stroke-linejoin:round; stroke-width:4; stroke-opacity:1; fill:none\" points=\"\n",
       "  1757.48,1423.18 1757.48,1406.67 \n",
       "  \"/>\n",
       "<polyline clip-path=\"url(#clip010)\" style=\"stroke:#000000; stroke-linecap:butt; stroke-linejoin:round; stroke-width:4; stroke-opacity:1; fill:none\" points=\"\n",
       "  2237.8,1423.18 2237.8,1406.67 \n",
       "  \"/>\n",
       "<path clip-path=\"url(#clip010)\" d=\"M316.512 1452.37 Q312.901 1452.37 311.072 1455.94 Q309.267 1459.48 309.267 1466.61 Q309.267 1473.71 311.072 1477.28 Q312.901 1480.82 316.512 1480.82 Q320.146 1480.82 321.952 1477.28 Q323.781 1473.71 323.781 1466.61 Q323.781 1459.48 321.952 1455.94 Q320.146 1452.37 316.512 1452.37 M316.512 1448.67 Q322.322 1448.67 325.378 1453.27 Q328.456 1457.86 328.456 1466.61 Q328.456 1475.33 325.378 1479.94 Q322.322 1484.52 316.512 1484.52 Q310.702 1484.52 307.623 1479.94 Q304.568 1475.33 304.568 1466.61 Q304.568 1457.86 307.623 1453.27 Q310.702 1448.67 316.512 1448.67 Z\" fill=\"#000000\" fill-rule=\"evenodd\" fill-opacity=\"1\" /><path clip-path=\"url(#clip010)\" d=\"M787.217 1479.92 L794.855 1479.92 L794.855 1453.55 L786.545 1455.22 L786.545 1450.96 L794.809 1449.29 L799.485 1449.29 L799.485 1479.92 L807.124 1479.92 L807.124 1483.85 L787.217 1483.85 L787.217 1479.92 Z\" fill=\"#000000\" fill-rule=\"evenodd\" fill-opacity=\"1\" /><path clip-path=\"url(#clip010)\" d=\"M1271.81 1479.92 L1288.13 1479.92 L1288.13 1483.85 L1266.18 1483.85 L1266.18 1479.92 Q1268.85 1477.16 1273.43 1472.53 Q1278.04 1467.88 1279.22 1466.54 Q1281.46 1464.01 1282.34 1462.28 Q1283.24 1460.52 1283.24 1458.83 Q1283.24 1456.07 1281.3 1454.34 Q1279.38 1452.6 1276.28 1452.6 Q1274.08 1452.6 1271.62 1453.37 Q1269.19 1454.13 1266.42 1455.68 L1266.42 1450.96 Q1269.24 1449.82 1271.69 1449.25 Q1274.15 1448.67 1276.18 1448.67 Q1281.56 1448.67 1284.75 1451.35 Q1287.94 1454.04 1287.94 1458.53 Q1287.94 1460.66 1287.13 1462.58 Q1286.35 1464.48 1284.24 1467.07 Q1283.66 1467.74 1280.56 1470.96 Q1277.46 1474.15 1271.81 1479.92 Z\" fill=\"#000000\" fill-rule=\"evenodd\" fill-opacity=\"1\" /><path clip-path=\"url(#clip010)\" d=\"M1761.73 1465.22 Q1765.08 1465.94 1766.96 1468.2 Q1768.86 1470.47 1768.86 1473.81 Q1768.86 1478.92 1765.34 1481.72 Q1761.82 1484.52 1755.34 1484.52 Q1753.16 1484.52 1750.85 1484.08 Q1748.56 1483.67 1746.1 1482.81 L1746.1 1478.3 Q1748.05 1479.43 1750.36 1480.01 Q1752.68 1480.59 1755.2 1480.59 Q1759.6 1480.59 1761.89 1478.85 Q1764.2 1477.12 1764.2 1473.81 Q1764.2 1470.75 1762.05 1469.04 Q1759.92 1467.3 1756.1 1467.3 L1752.07 1467.3 L1752.07 1463.46 L1756.29 1463.46 Q1759.74 1463.46 1761.57 1462.09 Q1763.39 1460.7 1763.39 1458.11 Q1763.39 1455.45 1761.5 1454.04 Q1759.62 1452.6 1756.1 1452.6 Q1754.18 1452.6 1751.98 1453.02 Q1749.78 1453.44 1747.14 1454.31 L1747.14 1450.15 Q1749.81 1449.41 1752.12 1449.04 Q1754.46 1448.67 1756.52 1448.67 Q1761.84 1448.67 1764.94 1451.1 Q1768.05 1453.5 1768.05 1457.63 Q1768.05 1460.5 1766.4 1462.49 Q1764.76 1464.45 1761.73 1465.22 Z\" fill=\"#000000\" fill-rule=\"evenodd\" fill-opacity=\"1\" /><path clip-path=\"url(#clip010)\" d=\"M2240.81 1453.37 L2229.01 1471.81 L2240.81 1471.81 L2240.81 1453.37 M2239.58 1449.29 L2245.46 1449.29 L2245.46 1471.81 L2250.39 1471.81 L2250.39 1475.7 L2245.46 1475.7 L2245.46 1483.85 L2240.81 1483.85 L2240.81 1475.7 L2225.21 1475.7 L2225.21 1471.19 L2239.58 1449.29 Z\" fill=\"#000000\" fill-rule=\"evenodd\" fill-opacity=\"1\" /><path clip-path=\"url(#clip010)\" d=\"M1172.33 1520.52 L1209.67 1520.52 L1209.67 1525.43 L1179.62 1562.63 L1210.4 1562.63 L1210.4 1568.04 L1171.6 1568.04 L1171.6 1563.14 L1201.65 1525.93 L1172.33 1525.93 L1172.33 1520.52 Z\" fill=\"#000000\" fill-rule=\"evenodd\" fill-opacity=\"1\" /><path clip-path=\"url(#clip010)\" d=\"M1249.96 1548.76 L1249.96 1551.62 L1223.04 1551.62 Q1223.42 1557.67 1226.67 1560.85 Q1229.94 1564 1235.77 1564 Q1239.14 1564 1242.29 1563.17 Q1245.48 1562.35 1248.6 1560.69 L1248.6 1566.23 Q1245.44 1567.57 1242.13 1568.27 Q1238.82 1568.97 1235.42 1568.97 Q1226.89 1568.97 1221.89 1564 Q1216.93 1559.04 1216.93 1550.57 Q1216.93 1541.82 1221.64 1536.69 Q1226.38 1531.54 1234.4 1531.54 Q1241.59 1531.54 1245.76 1536.18 Q1249.96 1540.8 1249.96 1548.76 M1244.11 1547.04 Q1244.04 1542.23 1241.4 1539.37 Q1238.79 1536.5 1234.46 1536.5 Q1229.56 1536.5 1226.6 1539.27 Q1223.67 1542.04 1223.23 1547.07 L1244.11 1547.04 Z\" fill=\"#000000\" fill-rule=\"evenodd\" fill-opacity=\"1\" /><path clip-path=\"url(#clip010)\" d=\"M1259.58 1532.4 L1265.43 1532.4 L1265.43 1568.04 L1259.58 1568.04 L1259.58 1532.4 M1259.58 1518.52 L1265.43 1518.52 L1265.43 1525.93 L1259.58 1525.93 L1259.58 1518.52 Z\" fill=\"#000000\" fill-rule=\"evenodd\" fill-opacity=\"1\" /><path clip-path=\"url(#clip010)\" d=\"M1283.48 1522.27 L1283.48 1532.4 L1295.54 1532.4 L1295.54 1536.95 L1283.48 1536.95 L1283.48 1556.3 Q1283.48 1560.66 1284.66 1561.9 Q1285.87 1563.14 1289.53 1563.14 L1295.54 1563.14 L1295.54 1568.04 L1289.53 1568.04 Q1282.75 1568.04 1280.17 1565.53 Q1277.59 1562.98 1277.59 1556.3 L1277.59 1536.95 L1273.29 1536.95 L1273.29 1532.4 L1277.59 1532.4 L1277.59 1522.27 L1283.48 1522.27 Z\" fill=\"#000000\" fill-rule=\"evenodd\" fill-opacity=\"1\" /><path clip-path=\"url(#clip010)\" d=\"M1323.42 1518.52 L1336.92 1518.52 L1336.92 1523.07 L1329.28 1523.07 L1329.28 1572.09 L1336.92 1572.09 L1336.92 1576.64 L1323.42 1576.64 L1323.42 1518.52 Z\" fill=\"#000000\" fill-rule=\"evenodd\" fill-opacity=\"1\" /><path clip-path=\"url(#clip010)\" d=\"M1379.03 1546.53 L1379.03 1568.04 L1373.17 1568.04 L1373.17 1546.72 Q1373.17 1541.66 1371.2 1539.14 Q1369.23 1536.63 1365.28 1536.63 Q1360.54 1536.63 1357.8 1539.65 Q1355.06 1542.68 1355.06 1547.9 L1355.06 1568.04 L1349.17 1568.04 L1349.17 1532.4 L1355.06 1532.4 L1355.06 1537.93 Q1357.16 1534.72 1360 1533.13 Q1362.86 1531.54 1366.58 1531.54 Q1372.73 1531.54 1375.88 1535.36 Q1379.03 1539.14 1379.03 1546.53 Z\" fill=\"#000000\" fill-rule=\"evenodd\" fill-opacity=\"1\" /><path clip-path=\"url(#clip010)\" d=\"M1413.44 1533.45 L1413.44 1538.98 Q1410.95 1537.71 1408.28 1537.07 Q1405.61 1536.44 1402.74 1536.44 Q1398.38 1536.44 1396.18 1537.77 Q1394.02 1539.11 1394.02 1541.79 Q1394.02 1543.82 1395.58 1545 Q1397.14 1546.15 1401.85 1547.2 L1403.86 1547.64 Q1410.09 1548.98 1412.7 1551.43 Q1415.35 1553.85 1415.35 1558.21 Q1415.35 1563.17 1411.4 1566.07 Q1407.48 1568.97 1400.61 1568.97 Q1397.74 1568.97 1394.63 1568.39 Q1391.54 1567.85 1388.1 1566.74 L1388.1 1560.69 Q1391.35 1562.38 1394.5 1563.24 Q1397.65 1564.07 1400.74 1564.07 Q1404.87 1564.07 1407.1 1562.66 Q1409.33 1561.23 1409.33 1558.65 Q1409.33 1556.27 1407.71 1554.99 Q1406.12 1553.72 1400.67 1552.54 L1398.64 1552.07 Q1393.19 1550.92 1390.77 1548.56 Q1388.35 1546.18 1388.35 1542.04 Q1388.35 1537.01 1391.92 1534.27 Q1395.48 1531.54 1402.04 1531.54 Q1405.29 1531.54 1408.15 1532.01 Q1411.02 1532.49 1413.44 1533.45 Z\" fill=\"#000000\" fill-rule=\"evenodd\" fill-opacity=\"1\" /><path clip-path=\"url(#clip010)\" d=\"M1438.36 1518.52 L1438.36 1576.64 L1424.86 1576.64 L1424.86 1572.09 L1432.47 1572.09 L1432.47 1523.07 L1424.86 1523.07 L1424.86 1518.52 L1438.36 1518.52 Z\" fill=\"#000000\" fill-rule=\"evenodd\" fill-opacity=\"1\" /><polyline clip-path=\"url(#clip012)\" style=\"stroke:#000000; stroke-linecap:butt; stroke-linejoin:round; stroke-width:2; stroke-opacity:0.1; fill:none\" points=\"\n",
       "  257.204,1365.63 2352.76,1365.63 \n",
       "  \"/>\n",
       "<polyline clip-path=\"url(#clip012)\" style=\"stroke:#000000; stroke-linecap:butt; stroke-linejoin:round; stroke-width:2; stroke-opacity:0.1; fill:none\" points=\"\n",
       "  257.204,1040.02 2352.76,1040.02 \n",
       "  \"/>\n",
       "<polyline clip-path=\"url(#clip012)\" style=\"stroke:#000000; stroke-linecap:butt; stroke-linejoin:round; stroke-width:2; stroke-opacity:0.1; fill:none\" points=\"\n",
       "  257.204,714.415 2352.76,714.415 \n",
       "  \"/>\n",
       "<polyline clip-path=\"url(#clip012)\" style=\"stroke:#000000; stroke-linecap:butt; stroke-linejoin:round; stroke-width:2; stroke-opacity:0.1; fill:none\" points=\"\n",
       "  257.204,388.808 2352.76,388.808 \n",
       "  \"/>\n",
       "<polyline clip-path=\"url(#clip012)\" style=\"stroke:#000000; stroke-linecap:butt; stroke-linejoin:round; stroke-width:2; stroke-opacity:0.1; fill:none\" points=\"\n",
       "  257.204,63.2016 2352.76,63.2016 \n",
       "  \"/>\n",
       "<polyline clip-path=\"url(#clip010)\" style=\"stroke:#000000; stroke-linecap:butt; stroke-linejoin:round; stroke-width:4; stroke-opacity:1; fill:none\" points=\"\n",
       "  257.204,1423.18 257.204,47.2441 \n",
       "  \"/>\n",
       "<polyline clip-path=\"url(#clip010)\" style=\"stroke:#000000; stroke-linecap:butt; stroke-linejoin:round; stroke-width:4; stroke-opacity:1; fill:none\" points=\"\n",
       "  257.204,1365.63 282.351,1365.63 \n",
       "  \"/>\n",
       "<polyline clip-path=\"url(#clip010)\" style=\"stroke:#000000; stroke-linecap:butt; stroke-linejoin:round; stroke-width:4; stroke-opacity:1; fill:none\" points=\"\n",
       "  257.204,1040.02 282.351,1040.02 \n",
       "  \"/>\n",
       "<polyline clip-path=\"url(#clip010)\" style=\"stroke:#000000; stroke-linecap:butt; stroke-linejoin:round; stroke-width:4; stroke-opacity:1; fill:none\" points=\"\n",
       "  257.204,714.415 282.351,714.415 \n",
       "  \"/>\n",
       "<polyline clip-path=\"url(#clip010)\" style=\"stroke:#000000; stroke-linecap:butt; stroke-linejoin:round; stroke-width:4; stroke-opacity:1; fill:none\" points=\"\n",
       "  257.204,388.808 282.351,388.808 \n",
       "  \"/>\n",
       "<polyline clip-path=\"url(#clip010)\" style=\"stroke:#000000; stroke-linecap:butt; stroke-linejoin:round; stroke-width:4; stroke-opacity:1; fill:none\" points=\"\n",
       "  257.204,63.2016 282.351,63.2016 \n",
       "  \"/>\n",
       "<path clip-path=\"url(#clip010)\" d=\"M114.26 1366.08 L143.936 1366.08 L143.936 1370.02 L114.26 1370.02 L114.26 1366.08 Z\" fill=\"#000000\" fill-rule=\"evenodd\" fill-opacity=\"1\" /><path clip-path=\"url(#clip010)\" d=\"M154.839 1378.97 L162.477 1378.97 L162.477 1352.61 L154.167 1354.27 L154.167 1350.02 L162.431 1348.35 L167.107 1348.35 L167.107 1378.97 L174.746 1378.97 L174.746 1382.91 L154.839 1382.91 L154.839 1378.97 Z\" fill=\"#000000\" fill-rule=\"evenodd\" fill-opacity=\"1\" /><path clip-path=\"url(#clip010)\" d=\"M184.19 1377.03 L189.075 1377.03 L189.075 1382.91 L184.19 1382.91 L184.19 1377.03 Z\" fill=\"#000000\" fill-rule=\"evenodd\" fill-opacity=\"1\" /><path clip-path=\"url(#clip010)\" d=\"M209.26 1351.43 Q205.649 1351.43 203.82 1354.99 Q202.014 1358.53 202.014 1365.66 Q202.014 1372.77 203.82 1376.33 Q205.649 1379.88 209.26 1379.88 Q212.894 1379.88 214.699 1376.33 Q216.528 1372.77 216.528 1365.66 Q216.528 1358.53 214.699 1354.99 Q212.894 1351.43 209.26 1351.43 M209.26 1347.72 Q215.07 1347.72 218.125 1352.33 Q221.204 1356.91 221.204 1365.66 Q221.204 1374.39 218.125 1379 Q215.07 1383.58 209.26 1383.58 Q203.449 1383.58 200.371 1379 Q197.315 1374.39 197.315 1365.66 Q197.315 1356.91 200.371 1352.33 Q203.449 1347.72 209.26 1347.72 Z\" fill=\"#000000\" fill-rule=\"evenodd\" fill-opacity=\"1\" /><path clip-path=\"url(#clip010)\" d=\"M115.256 1040.47 L144.931 1040.47 L144.931 1044.41 L115.256 1044.41 L115.256 1040.47 Z\" fill=\"#000000\" fill-rule=\"evenodd\" fill-opacity=\"1\" /><path clip-path=\"url(#clip010)\" d=\"M165.024 1025.82 Q161.413 1025.82 159.584 1029.39 Q157.778 1032.93 157.778 1040.06 Q157.778 1047.16 159.584 1050.73 Q161.413 1054.27 165.024 1054.27 Q168.658 1054.27 170.464 1050.73 Q172.292 1047.16 172.292 1040.06 Q172.292 1032.93 170.464 1029.39 Q168.658 1025.82 165.024 1025.82 M165.024 1022.12 Q170.834 1022.12 173.889 1026.72 Q176.968 1031.31 176.968 1040.06 Q176.968 1048.78 173.889 1053.39 Q170.834 1057.97 165.024 1057.97 Q159.214 1057.97 156.135 1053.39 Q153.079 1048.78 153.079 1040.06 Q153.079 1031.31 156.135 1026.72 Q159.214 1022.12 165.024 1022.12 Z\" fill=\"#000000\" fill-rule=\"evenodd\" fill-opacity=\"1\" /><path clip-path=\"url(#clip010)\" d=\"M185.186 1051.42 L190.07 1051.42 L190.07 1057.3 L185.186 1057.3 L185.186 1051.42 Z\" fill=\"#000000\" fill-rule=\"evenodd\" fill-opacity=\"1\" /><path clip-path=\"url(#clip010)\" d=\"M200.301 1022.74 L218.658 1022.74 L218.658 1026.68 L204.584 1026.68 L204.584 1035.15 Q205.602 1034.8 206.621 1034.64 Q207.639 1034.45 208.658 1034.45 Q214.445 1034.45 217.824 1037.63 Q221.204 1040.8 221.204 1046.21 Q221.204 1051.79 217.732 1054.89 Q214.26 1057.97 207.94 1057.97 Q205.764 1057.97 203.496 1057.6 Q201.25 1057.23 198.843 1056.49 L198.843 1051.79 Q200.926 1052.93 203.149 1053.48 Q205.371 1054.04 207.848 1054.04 Q211.852 1054.04 214.19 1051.93 Q216.528 1049.83 216.528 1046.21 Q216.528 1042.6 214.19 1040.5 Q211.852 1038.39 207.848 1038.39 Q205.973 1038.39 204.098 1038.81 Q202.246 1039.22 200.301 1040.1 L200.301 1022.74 Z\" fill=\"#000000\" fill-rule=\"evenodd\" fill-opacity=\"1\" /><path clip-path=\"url(#clip010)\" d=\"M164.028 700.214 Q160.417 700.214 158.589 703.779 Q156.783 707.32 156.783 714.45 Q156.783 721.556 158.589 725.121 Q160.417 728.663 164.028 728.663 Q167.663 728.663 169.468 725.121 Q171.297 721.556 171.297 714.45 Q171.297 707.32 169.468 703.779 Q167.663 700.214 164.028 700.214 M164.028 696.51 Q169.839 696.51 172.894 701.117 Q175.973 705.7 175.973 714.45 Q175.973 723.177 172.894 727.783 Q169.839 732.366 164.028 732.366 Q158.218 732.366 155.14 727.783 Q152.084 723.177 152.084 714.45 Q152.084 705.7 155.14 701.117 Q158.218 696.51 164.028 696.51 Z\" fill=\"#000000\" fill-rule=\"evenodd\" fill-opacity=\"1\" /><path clip-path=\"url(#clip010)\" d=\"M184.19 725.816 L189.075 725.816 L189.075 731.695 L184.19 731.695 L184.19 725.816 Z\" fill=\"#000000\" fill-rule=\"evenodd\" fill-opacity=\"1\" /><path clip-path=\"url(#clip010)\" d=\"M209.26 700.214 Q205.649 700.214 203.82 703.779 Q202.014 707.32 202.014 714.45 Q202.014 721.556 203.82 725.121 Q205.649 728.663 209.26 728.663 Q212.894 728.663 214.699 725.121 Q216.528 721.556 216.528 714.45 Q216.528 707.32 214.699 703.779 Q212.894 700.214 209.26 700.214 M209.26 696.51 Q215.07 696.51 218.125 701.117 Q221.204 705.7 221.204 714.45 Q221.204 723.177 218.125 727.783 Q215.07 732.366 209.26 732.366 Q203.449 732.366 200.371 727.783 Q197.315 723.177 197.315 714.45 Q197.315 705.7 200.371 701.117 Q203.449 696.51 209.26 696.51 Z\" fill=\"#000000\" fill-rule=\"evenodd\" fill-opacity=\"1\" /><path clip-path=\"url(#clip010)\" d=\"M165.024 374.607 Q161.413 374.607 159.584 378.172 Q157.778 381.714 157.778 388.843 Q157.778 395.95 159.584 399.514 Q161.413 403.056 165.024 403.056 Q168.658 403.056 170.464 399.514 Q172.292 395.95 172.292 388.843 Q172.292 381.714 170.464 378.172 Q168.658 374.607 165.024 374.607 M165.024 370.903 Q170.834 370.903 173.889 375.51 Q176.968 380.093 176.968 388.843 Q176.968 397.57 173.889 402.176 Q170.834 406.76 165.024 406.76 Q159.214 406.76 156.135 402.176 Q153.079 397.57 153.079 388.843 Q153.079 380.093 156.135 375.51 Q159.214 370.903 165.024 370.903 Z\" fill=\"#000000\" fill-rule=\"evenodd\" fill-opacity=\"1\" /><path clip-path=\"url(#clip010)\" d=\"M185.186 400.209 L190.07 400.209 L190.07 406.088 L185.186 406.088 L185.186 400.209 Z\" fill=\"#000000\" fill-rule=\"evenodd\" fill-opacity=\"1\" /><path clip-path=\"url(#clip010)\" d=\"M200.301 371.528 L218.658 371.528 L218.658 375.464 L204.584 375.464 L204.584 383.936 Q205.602 383.588 206.621 383.426 Q207.639 383.241 208.658 383.241 Q214.445 383.241 217.824 386.413 Q221.204 389.584 221.204 395 Q221.204 400.579 217.732 403.681 Q214.26 406.76 207.94 406.76 Q205.764 406.76 203.496 406.389 Q201.25 406.019 198.843 405.278 L198.843 400.579 Q200.926 401.713 203.149 402.269 Q205.371 402.825 207.848 402.825 Q211.852 402.825 214.19 400.718 Q216.528 398.612 216.528 395 Q216.528 391.389 214.19 389.283 Q211.852 387.176 207.848 387.176 Q205.973 387.176 204.098 387.593 Q202.246 388.01 200.301 388.889 L200.301 371.528 Z\" fill=\"#000000\" fill-rule=\"evenodd\" fill-opacity=\"1\" /><path clip-path=\"url(#clip010)\" d=\"M154.839 76.5464 L162.477 76.5464 L162.477 50.1808 L154.167 51.8475 L154.167 47.5882 L162.431 45.9216 L167.107 45.9216 L167.107 76.5464 L174.746 76.5464 L174.746 80.4816 L154.839 80.4816 L154.839 76.5464 Z\" fill=\"#000000\" fill-rule=\"evenodd\" fill-opacity=\"1\" /><path clip-path=\"url(#clip010)\" d=\"M184.19 74.602 L189.075 74.602 L189.075 80.4816 L184.19 80.4816 L184.19 74.602 Z\" fill=\"#000000\" fill-rule=\"evenodd\" fill-opacity=\"1\" /><path clip-path=\"url(#clip010)\" d=\"M209.26 49.0003 Q205.649 49.0003 203.82 52.5651 Q202.014 56.1067 202.014 63.2363 Q202.014 70.3428 203.82 73.9076 Q205.649 77.4492 209.26 77.4492 Q212.894 77.4492 214.699 73.9076 Q216.528 70.3428 216.528 63.2363 Q216.528 56.1067 214.699 52.5651 Q212.894 49.0003 209.26 49.0003 M209.26 45.2966 Q215.07 45.2966 218.125 49.903 Q221.204 54.4864 221.204 63.2363 Q221.204 71.9631 218.125 76.5696 Q215.07 81.1529 209.26 81.1529 Q203.449 81.1529 200.371 76.5696 Q197.315 71.9631 197.315 63.2363 Q197.315 54.4864 200.371 49.903 Q203.449 45.2966 209.26 45.2966 Z\" fill=\"#000000\" fill-rule=\"evenodd\" fill-opacity=\"1\" /><path clip-path=\"url(#clip010)\" d=\"M16.4842 787.22 L16.4842 757.174 L21.895 757.174 L21.895 780.79 L35.9632 780.79 L35.9632 758.16 L41.3741 758.16 L41.3741 780.79 L58.5933 780.79 L58.5933 756.601 L64.0042 756.601 L64.0042 787.22 L16.4842 787.22 Z\" fill=\"#000000\" fill-rule=\"evenodd\" fill-opacity=\"1\" /><path clip-path=\"url(#clip010)\" d=\"M74.8259 719.202 L79.3773 719.202 L79.3773 753.068 L74.8259 753.068 L74.8259 719.202 Z\" fill=\"#000000\" fill-rule=\"evenodd\" fill-opacity=\"1\" /><path clip-path=\"url(#clip010)\" d=\"M67.3143 698.864 Q73.68 701.346 75.6216 703.702 Q77.5631 706.057 77.5631 710.004 L77.5631 714.683 L72.6615 714.683 L72.6615 711.245 Q72.6615 708.826 71.5157 707.489 Q70.3699 706.153 66.1048 704.529 L63.4312 703.479 L28.3562 717.897 L28.3562 711.691 L56.238 700.551 L28.3562 689.411 L28.3562 683.204 L67.3143 698.864 Z\" fill=\"#000000\" fill-rule=\"evenodd\" fill-opacity=\"1\" /><polyline clip-path=\"url(#clip012)\" style=\"stroke:#009af9; stroke-linecap:butt; stroke-linejoin:round; stroke-width:4; stroke-opacity:1; fill:none\" points=\"\n",
       "  316.512,714.415 322.177,714.415 327.841,714.415 333.506,714.415 339.17,714.415 344.835,714.415 350.5,714.415 356.164,714.415 361.829,714.415 367.493,714.415 \n",
       "  373.158,714.415 378.822,714.415 384.487,714.415 390.152,714.415 395.816,714.415 401.481,714.415 407.145,714.415 412.81,714.415 418.474,714.415 424.139,714.415 \n",
       "  429.804,714.415 435.468,714.415 441.133,714.415 446.797,714.415 452.462,714.415 458.126,714.415 463.791,714.415 469.456,714.415 475.12,714.415 480.785,714.415 \n",
       "  486.449,714.415 492.114,714.415 497.778,714.415 503.443,714.415 509.108,714.415 514.772,714.415 520.437,714.415 526.101,714.415 531.766,714.415 537.43,714.415 \n",
       "  543.095,714.415 548.76,714.415 554.424,714.415 560.089,714.415 565.753,714.415 571.418,714.415 577.082,714.415 582.747,714.415 588.412,714.415 594.076,714.415 \n",
       "  599.741,714.415 605.405,714.415 611.07,714.415 616.734,714.415 622.399,714.415 628.064,714.415 633.728,714.415 639.393,714.415 645.057,714.415 650.722,714.415 \n",
       "  656.386,714.415 662.051,714.415 667.716,714.415 673.38,714.415 679.045,714.415 684.709,714.415 690.374,714.415 696.038,714.415 701.703,714.415 707.368,714.415 \n",
       "  713.032,714.415 718.697,714.415 724.361,714.415 730.026,714.415 735.69,714.415 741.355,714.415 747.02,714.415 752.684,714.415 758.349,714.415 764.013,714.415 \n",
       "  769.678,714.415 775.342,714.415 781.007,714.415 786.672,714.415 792.336,714.415 798.001,714.415 803.665,714.415 809.33,714.415 814.994,714.415 820.659,714.415 \n",
       "  826.324,714.415 831.988,714.415 837.653,714.415 843.317,714.415 848.982,714.415 854.646,714.415 860.311,714.415 865.976,714.415 871.64,714.415 877.305,714.415 \n",
       "  882.969,714.415 888.634,714.415 894.298,714.415 899.963,714.415 905.628,714.415 911.292,714.415 916.957,714.415 922.621,714.415 928.286,714.415 933.95,714.415 \n",
       "  939.615,714.415 945.28,714.415 950.944,714.415 956.609,714.415 962.273,714.415 967.938,714.415 973.602,714.415 979.267,714.415 984.932,714.415 990.596,714.415 \n",
       "  996.261,714.415 1001.93,714.415 1007.59,714.415 1013.25,714.415 1018.92,714.415 1024.58,714.415 1030.25,714.415 1035.91,714.415 1041.58,714.415 1047.24,714.415 \n",
       "  1052.91,714.415 1058.57,714.415 1064.24,714.415 1069.9,714.415 1075.56,714.415 1081.23,714.415 1086.89,714.415 1092.56,714.415 1098.22,714.415 1103.89,714.415 \n",
       "  1109.55,714.415 1115.22,714.415 1120.88,714.415 1126.55,714.415 1132.21,714.415 1137.88,714.415 1143.54,714.415 1149.2,714.415 1154.87,714.415 1160.53,714.415 \n",
       "  1166.2,714.415 1171.86,714.415 1177.53,714.415 1183.19,714.415 1188.86,714.415 1194.52,714.415 1200.19,714.415 1205.85,714.415 1211.51,714.415 1217.18,714.414 \n",
       "  1222.84,714.413 1228.51,714.409 1234.17,714.396 1239.84,714.363 1245.5,714.278 1251.17,714.072 1256.83,713.598 1262.5,712.561 1268.16,710.41 1273.82,706.176 \n",
       "  1279.49,698.285 1285.15,684.386 1290.82,661.298 1296.48,625.249 1302.15,572.575 1307.81,500.999 1313.48,411.433 1319.14,309.895 1324.81,208.829 1330.47,126.853 \n",
       "  1336.14,86.1857 1341.8,107.621 1347.46,204.025 1353.13,374.386 1358.79,600.92 1364.46,851.12 1370.12,1084.93 1375.79,1265.05 1381.45,1366.86 1387.12,1384.24 \n",
       "  1392.78,1329.31 1398.45,1226.63 1404.11,1104.56 1409.77,987.27 1415.44,890.039 1421.1,818.601 1426.77,771.438 1432.43,743.233 1438.1,727.874 1443.76,720.228 \n",
       "  1449.43,716.739 1455.09,715.276 1460.76,714.711 1466.42,714.509 1472.08,714.443 1477.75,714.423 1483.41,714.417 1489.08,714.416 1494.74,714.415 1500.41,714.415 \n",
       "  1506.07,714.415 1511.74,714.415 1517.4,714.415 1523.07,714.415 1528.73,714.415 1534.4,714.416 1540.06,714.416 1545.72,714.416 1551.39,714.417 1557.05,714.419 \n",
       "  1562.72,714.42 1568.38,714.422 1574.05,714.425 1579.71,714.427 1585.38,714.427 1591.04,714.426 1596.71,714.423 1602.37,714.416 1608.03,714.406 1613.7,714.395 \n",
       "  1619.36,714.383 1625.03,714.377 1630.69,714.383 1636.36,714.415 1642.02,714.494 1647.69,714.662 1653.35,714.987 1659.02,715.59 1664.68,716.661 1670.34,718.496 \n",
       "  1676.01,721.52 1681.67,726.295 1687.34,733.504 1693,743.867 1698.67,757.979 1704.33,776.061 1710,797.625 1715.66,821.136 1721.33,843.766 1726.99,861.392 \n",
       "  1732.66,868.98 1738.32,861.45 1743.98,834.937 1749.65,788.208 1755.31,723.818 1760.98,648.489 1766.64,572.359 1772.31,507.035 1777.97,462.854 1783.64,446.177 \n",
       "  1789.3,457.662 1794.97,492.251 1800.63,540.98 1806.29,593.973 1811.96,643.431 1817.62,685.419 1823.29,719.761 1828.95,748.299 1834.62,772.519 1840.28,791.856 \n",
       "  1845.95,803.571 1851.61,804.232 1857.28,791.958 1862.94,768.185 1868.6,737.974 1874.27,708.598 1879.93,687.028 1885.6,677.404 1891.26,679.603 1896.93,689.532 \n",
       "  1902.59,701.009 1908.26,708.469 1913.92,709.318 1919.59,704.942 1925.25,699.886 1930.92,699.578 1936.58,707.632 1942.24,723.984 1947.91,744.713 1953.57,763.607 \n",
       "  1959.24,774.681 1964.9,774.483 1970.57,763.219 1976.23,744.375 1981.9,723.212 1987.56,704.935 1993.23,693.313 1998.89,690.126 2004.55,695.36 2010.22,707.753 \n",
       "  2015.88,725.27 2021.55,745.312 2027.21,764.781 2032.88,780.237 2038.54,788.39 2044.21,786.867 2049.87,775.004 2055.54,754.277 2061.2,728.139 2066.86,701.252 \n",
       "  2072.53,678.348 2078.19,663.105 2083.86,657.355 2089.52,660.832 2095.19,671.447 2100.85,685.96 2106.52,700.833 2112.18,713.048 2117.85,720.728 2123.51,723.427 \n",
       "  2129.18,722.065 2134.84,718.516 2140.5,714.958 2146.17,713.162 2151.83,713.935 2157.5,716.883 2163.16,720.608 2168.83,723.269 2174.49,723.323 2180.16,720.176 \n",
       "  2185.82,714.475 2191.49,707.919 2197.15,702.637 2202.81,700.376 2208.48,701.833 2214.14,706.38 2219.81,712.327 2225.47,717.573 2231.14,720.412 2236.8,720.15 \n",
       "  2242.47,717.319 2248.13,713.411 2253.8,710.265 2259.46,709.35 2265.12,711.206 2270.79,715.237 2276.45,719.927 2282.12,723.387 2287.78,724.043 2293.45,721.231 \n",
       "  \n",
       "  \"/>\n",
       "<path clip-path=\"url(#clip010)\" d=\"\n",
       "M1997.63 196.789 L2282.9 196.789 L2282.9 93.1086 L1997.63 93.1086  Z\n",
       "  \" fill=\"#ffffff\" fill-rule=\"evenodd\" fill-opacity=\"1\"/>\n",
       "<polyline clip-path=\"url(#clip010)\" style=\"stroke:#000000; stroke-linecap:butt; stroke-linejoin:round; stroke-width:4; stroke-opacity:1; fill:none\" points=\"\n",
       "  1997.63,196.789 2282.9,196.789 2282.9,93.1086 1997.63,93.1086 1997.63,196.789 \n",
       "  \"/>\n",
       "<polyline clip-path=\"url(#clip010)\" style=\"stroke:#009af9; stroke-linecap:butt; stroke-linejoin:round; stroke-width:4; stroke-opacity:1; fill:none\" points=\"\n",
       "  2020.92,144.949 2160.62,144.949 \n",
       "  \"/>\n",
       "<path clip-path=\"url(#clip010)\" d=\"M2197.75 164.636 Q2195.94 169.266 2194.23 170.678 Q2192.52 172.09 2189.65 172.09 L2186.24 172.09 L2186.24 168.525 L2188.74 168.525 Q2190.5 168.525 2191.48 167.692 Q2192.45 166.858 2193.63 163.756 L2194.39 161.812 L2183.91 136.303 L2188.42 136.303 L2196.52 156.581 L2204.62 136.303 L2209.14 136.303 L2197.75 164.636 Z\" fill=\"#000000\" fill-rule=\"evenodd\" fill-opacity=\"1\" /><path clip-path=\"url(#clip010)\" d=\"M2216.43 158.293 L2224.07 158.293 L2224.07 131.928 L2215.76 133.595 L2215.76 129.335 L2224.02 127.669 L2228.7 127.669 L2228.7 158.293 L2236.34 158.293 L2236.34 162.229 L2216.43 162.229 L2216.43 158.293 Z\" fill=\"#000000\" fill-rule=\"evenodd\" fill-opacity=\"1\" /></svg>\n"
      ]
     },
     "execution_count": 12,
     "metadata": {},
     "output_type": "execute_result"
    }
   ],
   "source": [
    "time=(range(0,M-1, step=1) |> collect)*delta_t\n",
    "Plots.plot(time/1e-9,transpose(E_y_point1))\n",
    "Plots.xlabel!(\"Zeit [ns]\")\n",
    "Plots.ylabel!(\"E_y\")"
   ]
  },
  {
   "cell_type": "code",
   "execution_count": null,
   "id": "8922ecf4-80cd-464e-bb41-2dc6760d58fa",
   "metadata": {},
   "outputs": [],
   "source": [
    "plotsizeX = 350*N_x\n",
    "plotsizeY = 350*N_y\n",
    "anim = @animate for i in 1:5:length(movieH)\n",
    "    Plots.plot([1:N_y],[1:N_x], movieH[i],st=:surface,camera=(0,90), zlim=(-1,1), clim=(-0.5,0.5), size=(plotsizeX, plotsizeY), axis=nothing)\n",
    "    Plots.title!(\"Propagation of the simulated TE-Wave\")\n",
    "end\n",
    "gif(anim, fps=10)"
   ]
  }
 ],
 "metadata": {
  "kernelspec": {
   "display_name": "Julia 1.6.1",
   "language": "julia",
   "name": "julia-1.6"
  },
  "language_info": {
   "file_extension": ".jl",
   "mimetype": "application/julia",
   "name": "julia",
   "version": "1.6.1"
  }
 },
 "nbformat": 4,
 "nbformat_minor": 5
}
