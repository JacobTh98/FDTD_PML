{
 "cells": [
  {
   "cell_type": "markdown",
   "id": "a1221ba2-89f7-4d2e-a1c2-57e887eadc03",
   "metadata": {},
   "source": [
    "# The finite difference time domain method (FDTD) in two dimensions"
   ]
  },
  {
   "cell_type": "markdown",
   "id": "1d4df8a6-d83a-4b24-97b6-db1d87f5be1f",
   "metadata": {},
   "source": [
    "### Electromagnetiv scattering problems\n",
    "\n",
    "When an electromagnetic field encounters a target, currents are excited on it, which in turn re-radiate. This process is called “electromagnetic scattering”. Since the Maxwell equations are linear the fields are often decomposed into an _incident_ field $E^{inc}$ and a _scattered_ field $E^{scat}$. The overall field, called the _total_ field $E^{tot}$, is then:\n",
    "$$E^{tot} = E^{inc}+E^{scat}$$\n",
    "By definition, the incident field is the field which would exist if the scatterer were absent."
   ]
  },
  {
   "cell_type": "markdown",
   "id": "0d7a4ad9-2be5-433d-bfcc-890f126438ff",
   "metadata": {},
   "source": [
    "<div style=\"align: left; text-align:center;\">\n",
    "  <img src=\"Fig3_2_Davidson.png\" alt=\"Drawing\" style=\"width: 400px;\">\n",
    "  <figcaption> <strong>Fig. 1</strong> The scatterer and surrounding FDTD zones, showing scattered field and total field regions </figcaption>\n",
    "</div>"
   ]
  },
  {
   "cell_type": "markdown",
   "id": "a5ee0e86-c8f7-4b3f-9531-ef01837260a5",
   "metadata": {},
   "source": [
    "### Including a source: the scattered/total field formulation\n",
    "\n",
    "If we want to study scattering, we need a method for simulating a plane wave. The simplest method for doing this is to exploit the concepts of incident, scattered and total fields, introduced in the section above. Since the Maxwell equations are linear we can use the FDTD to solve for either the scattered or total fields. We will split the computational area into two zones using a (non-physical) line, as in Fig. 1. \n",
    "In one region, we will have only scattered fields, and in the other, total fields. For convenience, we can choose a constant $x$ coordinate (this corresponds to the variable `L` in the simulation code).\n",
    "\n",
    "Since three of the five field components in the two-dimensional Yee cell are located at half-step\n",
    "values, our scattered/total field demarcation is located at\n",
    "$x_L = (L - \\frac{1}{2})\\Delta$. Fields located _on_ and to the right of this line this will be chosen as\n",
    "total fields. Fields to the left will be scattered fields."
   ]
  },
  {
   "cell_type": "markdown",
   "id": "52234f53-fa12-4bb3-ba13-7ff6384a8220",
   "metadata": {},
   "source": [
    "### Historical Background: The Berenger´s split field formulation\n",
    "\n",
    "The Berenger´s split field formulation is the simplest and most efficient approach in two dimensions. The reason for this is that, contrary to the (Uniaxial) UPML, we can avoid the storage requirements of electric and magnetic flux vectors and the additional complexity due to dealing with dispersive materials. It is important to note that this benefit accrues only in two dimensions.\n",
    "\n",
    "Berenger recognized that an additional degree of freedom would permit a match off normal as well. He did this by splitting the transverse fields into two orthogonal components, for example $H_z = H_{zx} + H_{zy}$. Applying this to a two-dimensional TE problem described by the Maxwell-equations with lossless materials _(Eq: 3.5 - 3.7)_:\n",
    "\n",
    "$$\\frac{\\partial E_x}{\\partial t} = \\frac{1}{\\epsilon}\\frac{\\partial H_z}{\\partial y}$$\n",
    "\n",
    "$$\\frac{\\partial E_y}{\\partial t} = -\\frac{1}{\\epsilon}\\frac{\\partial H_z}{\\partial x}$$\n",
    "\n",
    "$$\\frac{\\partial H_z}{\\partial t} = \\frac{1}{\\mu} \\biggl(\\frac{\\partial E_x}{\\partial y} - \\frac{\\partial E_y}{\\partial x} \\biggl)$$\n",
    "\n",
    "result in four equations:\n",
    "\n",
    "$$\\frac{\\partial E_x}{\\partial t} = \\frac{1}{\\epsilon} \\frac{\\partial (H_{zx} + H_{zy})}{\\partial y}$$\n",
    "\n",
    "$$\\frac{\\partial E_y}{\\partial t} = -\\frac{1}{\\epsilon} \\frac{\\partial (H_{zx} + H_{zy})}{\\partial x}$$\n",
    "\n",
    "$$\\frac{\\partial H_{zx}}{\\partial t} = -\\frac{1}{\\mu}\\frac{\\partial E_y}{\\partial x}$$\n",
    "\n",
    "$$\\frac{\\partial H_{zy}}{\\partial t} = \\frac{1}{\\mu}\\frac{\\partial E_x}{\\partial y}$$"
   ]
  },
  {
   "cell_type": "markdown",
   "id": "58dae536-c902-4f63-88cc-6bddbaae3994",
   "metadata": {},
   "source": [
    "### Perfectly matched Layer\n",
    "\n",
    "The perfectly matched layer (PML) is the theoratical approach for the boundary in sumulating an open field. The \"real\" open field would not have any boundary. With the FDTD we need a boundary conditions to be able to do a simulation. The perfect boundary for the simluation would absorbe all incoming waves. The PML is an effective approach to simulate such an absorbing boundary."
   ]
  },
  {
   "cell_type": "markdown",
   "id": "4b210e33-e8b5-4405-ac6c-d50c1c000dd9",
   "metadata": {},
   "source": [
    "### The FDTD update equations for a PML\n",
    "\n",
    "With the theoretical background, associated with two components of $\\sigma^*$ ($\\sigma_x^*$ and $\\sigma_y^*$) and two components of $\\sigma$ ($\\sigma_x$ and $\\sigma_y$), describing the electrical ($\\sigma$) and magnetic ($\\sigma^*$) loss, the time domain equations are _(Eq.: 3.58 - 3.61)_:\n",
    "\n",
    "$$ \\biggl( \\epsilon \\frac{\\partial}{\\partial t}+\\sigma_y \\biggl) E_x = \\frac{\\partial(H_{zx}+H_{zy})}{\\partial y}$$\n",
    "\n",
    "$$ \\biggl( \\epsilon \\frac{\\partial}{\\partial t}+\\sigma_x \\biggl) E_x = -\\frac{\\partial(H_{zx}+H_{zy})}{\\partial x}$$\n",
    "\n",
    "$$ \\biggl( \\mu \\frac{\\partial}{\\partial t}+\\sigma_x^* \\biggl) H_zx = -\\frac{\\partial E_y}{\\partial x}$$\n",
    "\n",
    "$$ \\biggl( \\mu \\frac{\\partial}{\\partial t}+\\sigma_y^* \\biggl) H_zy = \\frac{\\partial E_x}{\\partial y}$$\n",
    "\n",
    "To evaluate the electric field, we use the _semi-implicit_ approximation. It is needed, because of the problem of evaluating the electric field at a half time step. The required value is computed as the average of the previous (known) value and the as-yet-to-be-computed value:\n",
    "\n",
    "$$E_x\\biggl(i+\\frac{1}{2},j,n+\\frac{1}{2}\\biggl)= \\frac{E_x(i+\\frac{1}{2},j,n+1)+E_x(i+\\frac{1}{2},j,n)}{2}$$\n",
    "\n",
    "Using this approximation, and otherwise proceeding as before, the result is the following set of update equations _(Eq.: 3.63 - 3.66)_:\n",
    "\n",
    "$$H_{zx}(i,j,n)=D_{a_{Hzx}}(i,j)\\cdot H_{zx}(i,j,n-1)-D_{b_{Hzx}}(i,j)\\cdot [E_y(i+1,j,n) - E_y(i,j,n)]$$\n",
    "\n",
    "$$H_{zy}(i,j,n)=D_{a_{Hzy}}(i,j)\\cdot H_{zy}(i,j,n-1)-D_{b_{Hzy}}(i,j)\\cdot [E_x(i,j+1,n) - E_x(i,j,n)]$$\n",
    "\n",
    "$$E_x(i,j,n+1)=C_{a_{Ex}}(i,j)\\cdot E_{x}(i,j,n)+C_{b_{Ex}}(i,j)\\cdot [H_z(i,j,n) - H_z(i,j-1,n)]$$\n",
    "\n",
    "$$E_y(i,j,n+1)=C_{a_{Ey}}(i,j)\\cdot E_y(i,j,n)-C_{b_{Ey}}(i,j)\\cdot [H_z(i,j,n) - H_z(i-1,j,n)]$$\n",
    "\n",
    ", where we have combined the $H$ field _(Eq.:3.67)_:\n",
    "\n",
    "$$H_z(i,j,n) = H_{zx}(i,j,n)+H_{zy}(i,j,n)$$\n",
    "\n",
    "and the material constants as _(Eq.:3.68 - 3.75)_:\n",
    "\n",
    "$$C_{a_{Ex}} (i,j) = \\frac{1 - \\frac{\\sigma_y(i,j)\\Delta t}{2\\epsilon(i,j)}}{1+ \\frac{\\sigma_y(i,j)\\Delta t}{2 \\epsilon (i,j)}} \\qquad \\qquad \\qquad \n",
    "C_{b_{Ex}} (i,j) = \\frac{\\frac{\\Delta t}{\\epsilon(i,j) \\Delta y}}{1+ \\frac{\\sigma_y(i,j)\\Delta t}{2 \\epsilon (i,j)}}$$\n",
    "\n",
    "$$C_{a_{Ey}} (i,j) = \\frac{1 - \\frac{\\sigma_x(i,j)\\Delta t}{2\\epsilon(i,j)}}{1+ \\frac{\\sigma_x(i,j)\\Delta t}{2 \\epsilon (i,j)}} \\qquad \\qquad \\qquad\n",
    "C_{b_{Ey}} (i,j) = \\frac{\\frac{\\Delta t}{\\epsilon(i,j) \\Delta x}}{1+ \\frac{\\sigma_x(i,j)\\Delta t}{2 \\epsilon (i,j)}}$$\n",
    "\n",
    "$$D_{a_{Hzx}}(i,j) = \\frac{1 - \\frac{\\sigma_x^*(i,j)\\Delta t}{2\\mu(i,j)}}{1+ \\frac{\\sigma_x^*(i,j)\\Delta t}{2 \\mu (i,j)}} \\qquad \\qquad \\qquad\n",
    "D_{b_{Hzx}} (i,j) = \\frac{\\frac{\\Delta t}{\\mu (i,j) \\Delta x}}{1+ \\frac{\\sigma_x^*(i,j)\\Delta t}{2 \\mu (i,j)}}$$\n",
    "\n",
    "$$D_{a_{Hzy}} (i,j) = \\frac{1 - \\frac{\\sigma_y^*(i,j)\\Delta t}{2\\mu (i,j)}}{1+ \\frac{\\sigma_x^*(i,j)\\Delta t}{2 \\mu (i,j)}} \\qquad \\qquad \\qquad\n",
    "D_{b_{Hzy}} (i,j) = \\frac{\\frac{\\Delta t}{\\mu(i,j) \\Delta y}}{1+ \\frac{\\sigma_y^*(i,j)\\Delta t}{2 \\mu (i,j)}}$$"
   ]
  },
  {
   "cell_type": "markdown",
   "id": "884388fd-b117-4afb-a6d5-5a170479e877",
   "metadata": {},
   "source": [
    "## Simulation"
   ]
  },
  {
   "cell_type": "markdown",
   "id": "69ace812-0267-49b6-9667-06b0d0083ec6",
   "metadata": {},
   "source": [
    "The code allows to simulate different scenarios. The simulation region is defined by the the steps and the spatial distance of each step. In this region we can place a line source, plane wave and a PEC cylinder and/or PEC cuboid. The choosen area will be plottet later on."
   ]
  },
  {
   "cell_type": "markdown",
   "id": "cf9f7988-1551-48e1-b4b6-8bc9b50b7d2b",
   "metadata": {},
   "source": [
    "The line source and the plane wave is a normalized Gaussian derivative pulse:\n",
    "$$v_0(t) = - \\frac{e^{1/2}}{\\sigma}(t-m)e^{-(t-m)^2/2\\sigma^2}$$\n",
    "The normalizing constant $e^{1/2}/\\sigma$ provides a unit peak amplitude at $t - m = ± \\sigma$."
   ]
  }
 ],
 "metadata": {
  "kernelspec": {
   "display_name": "Julia 1.6.1",
   "language": "julia",
   "name": "julia-1.6"
  },
  "language_info": {
   "file_extension": ".jl",
   "mimetype": "application/julia",
   "name": "julia",
   "version": "1.6.2"
  }
 },
 "nbformat": 4,
 "nbformat_minor": 5
}
