{
 "cells": [
  {
   "cell_type": "markdown",
   "id": "cf9f7988-1551-48e1-b4b6-8bc9b50b7d2b",
   "metadata": {},
   "source": [
    "A normalized Gaussian derivative pulse:\n",
    "$$v_0(t) = - \\frac{e^{1/2}}{\\sigma}(t-m)e^{-(t-m)^2/2\\sigma^2}$$\n",
    "The normalizing constant $e^{1/2}/\\sigma$ provides a unit peak amplitude at $t - m = ± \\sigma$."
   ]
  },
  {
   "cell_type": "code",
   "execution_count": null,
   "id": "0a53b80f-e041-4df6-8a02-3791d6a541fb",
   "metadata": {},
   "outputs": [],
   "source": []
  }
 ],
 "metadata": {
  "kernelspec": {
   "display_name": "Julia 1.6.1",
   "language": "julia",
   "name": "julia-1.6"
  },
  "language_info": {
   "file_extension": ".jl",
   "mimetype": "application/julia",
   "name": "julia",
   "version": "1.6.2"
  }
 },
 "nbformat": 4,
 "nbformat_minor": 5
}
