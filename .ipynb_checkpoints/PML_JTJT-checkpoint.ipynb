{
 "cells": [
  {
   "cell_type": "markdown",
   "id": "d8d2533c-d7d7-4093-a658-81fc353fdb67",
   "metadata": {},
   "source": [
    "# Perfectly matched Layer\n",
    "The perfectly matched layer (PML) is the theoratical approach for the boundary in sumulating an open field. The \"real\" open field would not have any boundary. With the FDTD we need a boundary conditions to be able to do a simulation. The perfect boundary for the simluation would absorbe all incoming waves. The PML is an effective approach to simulate such an absorbing boundary."
   ]
  },
  {
   "cell_type": "markdown",
   "id": "702a34e0-8e55-4d51-8c06-211fb6c6a728",
   "metadata": {},
   "source": [
    "### Historical Background: The Berenger´s split field formulation\n",
    "\n",
    "The Berenger´s split field formulation is the simplest and most efficient approach in two dimensions. The reason for this is that, contrary to the (Uniaxial) UPML, we can avoid the storage requirements of electric and magnetic flux vectors and the additional complexity due to dealing with dispersive materials. It is important to note that this benefit accrues only in two dimensions.\n",
    "\n",
    "Berenger recognized that an additional degree of freedom would permit a match off normal as well. He did this by splitting the transverse fields into two orthogonal components, for example $H_z = H_{zx} + H_{zy}$. Applying this to a two-dimensional TE problem described by the Maxwell-equations with lossless materials _(Eq: 3.5 - 3.7)_:\n",
    "\n",
    "$$\\frac{\\partial E_x}{\\partial t} = \\frac{1}{\\epsilon}\\frac{\\partial H_z}{\\partial y}$$\n",
    "\n",
    "$$\\frac{\\partial E_y}{\\partial t} = -\\frac{1}{\\epsilon}\\frac{\\partial H_z}{\\partial x}$$\n",
    "\n",
    "$$\\frac{\\partial H_z}{\\partial t} = \\frac{1}{\\mu} \\biggl(\\frac{\\partial E_x}{\\partial y} - \\frac{\\partial E_y}{\\partial x} \\biggl)$$\n",
    "\n",
    "result in four equations:\n",
    "\n",
    "$$\\frac{\\partial E_x}{\\partial t} = \\frac{1}{\\epsilon} \\frac{\\partial (H_{zx} + H_{zy})}{\\partial y}$$\n",
    "\n",
    "$$\\frac{\\partial E_y}{\\partial t} = -\\frac{1}{\\epsilon} \\frac{\\partial (H_{zx} + H_{zy})}{\\partial x}$$\n",
    "\n",
    "$$\\frac{\\partial H_{zx}}{\\partial t} = -\\frac{1}{\\mu}\\frac{\\partial E_y}{\\partial x}$$\n",
    "\n",
    "$$\\frac{\\partial H_{zy}}{\\partial t} = \\frac{1}{\\mu}\\frac{\\partial E_x}{\\partial y}$$"
   ]
  },
  {
   "cell_type": "markdown",
   "id": "e87aa45d-a8d4-4203-ba68-1562659d5012",
   "metadata": {},
   "source": [
    "## Simulation"
   ]
  },
  {
   "cell_type": "markdown",
   "id": "a706c123-caca-46a1-9f6a-7cf614f77091",
   "metadata": {},
   "source": [
    "The code allows to simulate different scenarios. The simulation region is defined by the the steps and the spatial distance of each step. In this region we can place a line source and a PEC cylinder. The choosen area will be plottet later on."
   ]
  },
  {
   "cell_type": "code",
   "execution_count": 2,
   "id": "57095605-7f87-48a1-9b26-1d2abdc30e61",
   "metadata": {},
   "outputs": [],
   "source": [
    "using GeometryBasics\n",
    "using CairoMakie\n",
    "using Plots"
   ]
  },
  {
   "cell_type": "code",
   "execution_count": 3,
   "id": "674170d7-9e9f-4869-b889-19bba469d82d",
   "metadata": {},
   "outputs": [],
   "source": [
    "line_source = false;\n",
    "cyl_present = true;\n",
    "cube_present = false;"
   ]
  },
  {
   "cell_type": "markdown",
   "id": "d3a40a1a-dc6c-486e-8f74-4a44287d5f0d",
   "metadata": {},
   "source": [
    "Beside the simulation area different physical constants need to be defined. "
   ]
  },
  {
   "cell_type": "code",
   "execution_count": 4,
   "id": "78df7241-a09d-4af5-92b1-8804b4c4b6a5",
   "metadata": {},
   "outputs": [],
   "source": [
    "#Physical constants\n",
    "c = 2.997925e8;    # [m/s] Speed of light in vacuum\n",
    "eps_0 = 8.854187817e-12; # [F/m] ϵ_0\n",
    "mu_0 = 4*pi*1e-7;  # [H/m] μ_0\n",
    "eta_0 = sqrt(mu_0/eps_0);"
   ]
  },
  {
   "cell_type": "markdown",
   "id": "70a60d9e-5364-4bbf-99b7-45d1bcd142e1",
   "metadata": {},
   "source": [
    "The simulation area has to be meshed. We choose for the rectengular area a mesh with 200 steps in each direction. "
   ]
  },
  {
   "cell_type": "code",
   "execution_count": 5,
   "id": "96d71626-76cc-48a6-bbb7-f0717356809a",
   "metadata": {},
   "outputs": [],
   "source": [
    "#Simulation area\n",
    "sizeX = 2      # [m] size of simulation region\n",
    "sizeY = 1      # [m] size of simulation region\n",
    "refinement = 200    # [cells/m] \n",
    "N_x = Int(refinement/sizeX)      # number of cells in x-direction\n",
    "N_y = Int(refinement/sizeY)      # number of cells in y-direction\n",
    "delta_s = sizeX/refinement       # [m] spatial step\n",
    "M = 350           # Number of time steps\n",
    "L = Int(round(N_x/2))    # scat/tot field boundary          \n",
    "R = 1                                 # fraction of Courant limit. Must be <= 1\n",
    "delta_t = R * delta_s/(c * sqrt(2))   # [s] Time step size\n",
    "\n",
    "sigma = 5.0e-11      # Controls spectral content of Gaussian derivative pulse equals 1/omega_max\n",
    "m_offset = 4*sigma;  # Controls switch-on time\n",
    "Peak = 1;            # Peak amplitude of E field\n",
    "\n",
    "# PEC cylinder position at x=0.75m y=0.5m.\n",
    "radius = 0.03 # [m] radius of cylinder\n",
    "N_centre_x = Int(round(0.75*N_x));\n",
    "N_centre_y = Int(round(0.6*N_y));\n",
    "# PEC Cube position at \n",
    "sides = 0.1  # [m] side length of cube\n",
    "N_centre_x_cub = Int(round(0.75*N_x));\n",
    "N_centre_y_cub = Int(round(0.3*N_y));"
   ]
  },
  {
   "cell_type": "markdown",
   "id": "17f052eb-9856-44f1-8e35-b83c392a21b2",
   "metadata": {},
   "source": [
    "Setting up the material grid an the PML"
   ]
  },
  {
   "cell_type": "code",
   "execution_count": 6,
   "id": "c77892c3-0c5c-4fd2-a44f-f75821df5842",
   "metadata": {},
   "outputs": [],
   "source": [
    "# Set up material grid (free space to start)\n",
    "sigma_x = zeros(N_x,N_y);\n",
    "sigma_y = zeros(N_x,N_y);\n",
    "sigma_ast_x = zeros(N_x,N_y);\n",
    "sigma_ast_y = zeros(N_x,N_y);"
   ]
  },
  {
   "cell_type": "code",
   "execution_count": 7,
   "id": "2701460a-13e9-4e11-b856-4100b83ec8c0",
   "metadata": {},
   "outputs": [],
   "source": [
    "# Set up PML\n",
    "poly_m = 3\n",
    "sigma_max = 0.8*(poly_m+1)/(eta_0*delta_s)\n",
    "d_cell = 10\n",
    "# For y-absorption.\n",
    "for jj = 1:d_cell\n",
    "    dist = d_cell-(jj-1)\n",
    "    sigma_y[:,jj] .= sigma_max*(dist/d_cell)^poly_m\n",
    "    sigma_y[:,N_y-jj+1] = sigma_y[:,jj]\n",
    "end\n",
    "\n",
    "for jj = 1:d_cell\n",
    "    dist = d_cell-(jj-1)-0.5; # Hz field components located delta/2 away.\n",
    "    sigma_ast_y[:,jj] .= eta_0^2*sigma_max*(dist/d_cell)^poly_m;\n",
    "    sigma_ast_y[:,N_y-jj] = sigma_ast_y[:,jj];\n",
    "end\n",
    "\n",
    "# For x-absorption. Corner regions are automatically overlapped.\n",
    "for ii = 1:d_cell\n",
    "    dist = d_cell-(ii-1);\n",
    "    sigma_x[ii,:] .= sigma_max*(dist/d_cell)^poly_m;\n",
    "    sigma_x[N_x-ii+1,:] = sigma_x[ii,:];\n",
    "end\n",
    "\n",
    "for ii = 1:d_cell\n",
    "    dist = d_cell-(ii-1)-0.5; # Hz field components located delta/2 away.\n",
    "    sigma_ast_x[ii,:] .= eta_0^2*sigma_max*(dist/d_cell)^poly_m;\n",
    "    sigma_ast_x[N_x-ii,:] = sigma_ast_x[ii,:];\n",
    "end"
   ]
  },
  {
   "cell_type": "markdown",
   "id": "c3888187-657d-4ff2-961b-0544318dd7c2",
   "metadata": {},
   "source": [
    "The material constants are defined as:"
   ]
  },
  {
   "cell_type": "markdown",
   "id": "0ec77dba-b20a-4096-990b-23f2276d6812",
   "metadata": {},
   "source": [
    "### The FDTD update equations for a PML\n",
    "\n",
    "With the theoretical background, associated with two components of $\\sigma^*$ ($\\sigma_x^*$ and $\\sigma_y^*$) and two components of $\\sigma$ ($\\sigma_x$ and $\\sigma_y$), describing the electrical ($\\sigma$) and magnetic ($\\sigma^*$) loss, the time domain equations are _(Eq.: 3.58 - 3.61)_:\n",
    "\n",
    "$$ \\biggl( \\epsilon \\frac{\\partial}{\\partial t}+\\sigma_y \\biggl) E_x = \\frac{\\partial(H_{zx}+H_{zy})}{\\partial y}$$\n",
    "\n",
    "$$ \\biggl( \\epsilon \\frac{\\partial}{\\partial t}+\\sigma_x \\biggl) E_x = -\\frac{\\partial(H_{zx}+H_{zy})}{\\partial x}$$\n",
    "\n",
    "$$ \\biggl( \\mu \\frac{\\partial}{\\partial t}+\\sigma_x^* \\biggl) H_zx = -\\frac{\\partial E_y}{\\partial x}$$\n",
    "\n",
    "$$ \\biggl( \\mu \\frac{\\partial}{\\partial t}+\\sigma_y^* \\biggl) H_zy = \\frac{\\partial E_x}{\\partial y}$$\n",
    "\n",
    "To evaluate the electric field, we use the _semi-implicit_ approximation. It is needed, because of the problem of evaluating the electric field at a half time step. The required value is computed as the average of the previous (known) value and the as-yet-to-be-computed value:\n",
    "\n",
    "$$E_x\\biggl(i+\\frac{1}{2},j,n+\\frac{1}{2}\\biggl)= \\frac{E_x(i+\\frac{1}{2},j,n+1)+E_x(i+\\frac{1}{2},j,n)}{2}$$\n",
    "\n",
    "Using this approximation, and otherwise proceeding as before, the result is the following set of update equations _(Eq.: 3.63 - 3.66)_:\n",
    "\n",
    "$$H_{zx}(i,j,n)=D_{a_{Hzx}}(i,j)\\cdot H_{zx}(i,j,n-1)-D_{b_{Hzx}}(i,j)\\cdot [E_y(i+1,j,n) - E_y(i,j,n)]$$\n",
    "\n",
    "$$H_{zy}(i,j,n)=D_{a_{Hzy}}(i,j)\\cdot H_{zy}(i,j,n-1)-D_{b_{Hzy}}(i,j)\\cdot [E_x(i,j+1,n) - E_x(i,j,n)]$$\n",
    "\n",
    "$$E_x(i,j,n+1)=C_{a_{Ex}}(i,j)\\cdot E_{x}(i,j,n)+C_{b_{Ex}}(i,j)\\cdot [H_z(i,j,n) - H_z(i,j-1,n)]$$\n",
    "\n",
    "$$E_y(i,j,n+1)=C_{a_{Ey}}(i,j)\\cdot E_y(i,j,n)-C_{b_{Ey}}(i,j)\\cdot [H_z(i,j,n) - H_z(i-1,j,n)]$$\n",
    "\n",
    ", where we have combined the $H$ field _(Eq.:3.67)_:\n",
    "\n",
    "$$H_z(i,j,n) = H_{zx}(i,j,n)+H_{zy}(i,j,n)$$\n",
    "\n",
    "and the material constants as _(Eq.:3.68 - 3.75)_:\n",
    "\n",
    "$$C_{a_{Ex}} (i,j) = \\frac{1 - \\frac{\\sigma_y(i,j)\\Delta t}{2\\epsilon(i,j)}}{1+ \\frac{\\sigma_y(i,j)\\Delta t}{2 \\epsilon (i,j)}} \\qquad \\qquad \\qquad \n",
    "C_{b_{Ex}} (i,j) = \\frac{\\frac{\\Delta t}{\\epsilon(i,j) \\Delta y}}{1+ \\frac{\\sigma_y(i,j)\\Delta t}{2 \\epsilon (i,j)}}$$\n",
    "\n",
    "$$C_{a_{Ey}} (i,j) = \\frac{1 - \\frac{\\sigma_x(i,j)\\Delta t}{2\\epsilon(i,j)}}{1+ \\frac{\\sigma_x(i,j)\\Delta t}{2 \\epsilon (i,j)}} \\qquad \\qquad \\qquad\n",
    "C_{b_{Ey}} (i,j) = \\frac{\\frac{\\Delta t}{\\epsilon(i,j) \\Delta x}}{1+ \\frac{\\sigma_x(i,j)\\Delta t}{2 \\epsilon (i,j)}}$$\n",
    "\n",
    "$$D_{a_{Hzx}}(i,j) = \\frac{1 - \\frac{\\sigma_x^*(i,j)\\Delta t}{2\\mu(i,j)}}{1+ \\frac{\\sigma_x^*(i,j)\\Delta t}{2 \\mu (i,j)}} \\qquad \\qquad \\qquad\n",
    "D_{b_{Hzx}} (i,j) = \\frac{\\frac{\\Delta t}{\\mu (i,j) \\Delta x}}{1+ \\frac{\\sigma_x^*(i,j)\\Delta t}{2 \\mu (i,j)}}$$\n",
    "\n",
    "$$D_{a_{Hzy}} (i,j) = \\frac{1 - \\frac{\\sigma_y^*(i,j)\\Delta t}{2\\mu (i,j)}}{1+ \\frac{\\sigma_x^*(i,j)\\Delta t}{2 \\mu (i,j)}} \\qquad \\qquad \\qquad\n",
    "D_{b_{Hzy}} (i,j) = \\frac{\\frac{\\Delta t}{\\mu(i,j) \\Delta y}}{1+ \\frac{\\sigma_y^*(i,j)\\Delta t}{2 \\mu (i,j)}}$$"
   ]
  },
  {
   "cell_type": "code",
   "execution_count": 8,
   "id": "20aefae8-e8c5-4c35-8a44-9adc38cbda8f",
   "metadata": {},
   "outputs": [],
   "source": [
    "C_aEx = (1 .- sigma_y * delta_t / (2*eps_0)) ./ (1 .+sigma_y*delta_t/(2*eps_0)); \n",
    "C_bEx = delta_t / (eps_0*delta_s) ./ (1 .+ sigma_y * delta_t / (2*eps_0));\n",
    "C_aEy = (1 .-sigma_x*delta_t/(2*eps_0))./(1 .+sigma_x*delta_t/(2*eps_0)); \n",
    "C_bEy = delta_t/(eps_0*delta_s)./(1 .+sigma_x*delta_t/(2*eps_0));\n",
    "D_aHzx = (1 .-sigma_ast_x*delta_t/(2*mu_0))./(1 .+sigma_ast_x*delta_t/(2*mu_0)); \n",
    "D_bHzx = delta_t/(mu_0*delta_s)./(1 .+sigma_ast_x*delta_t/(2*mu_0));\n",
    "D_aHzy = (1 .-sigma_ast_y*delta_t/(2*mu_0))./(1 .+sigma_ast_y*delta_t/(2*mu_0)); \n",
    "D_bHzy = delta_t/(mu_0*delta_s)./(1 .+sigma_ast_y*delta_t/(2*mu_0));\n",
    "\n",
    "if cyl_present # Otherwise just leave it as free space\n",
    "    for ii = 1:N_x\n",
    "        for jj = 1:N_y\n",
    "            if (sqrt(((ii-1/2-(N_centre_x-1))*delta_s)^2 + ((jj-1-(N_centre_y-1))*delta_s)^2 ) <= radius) \n",
    "                C_bEx[ii,jj] = 0;\n",
    "            end\n",
    "            if (sqrt(((ii-1-(N_centre_x-1))*delta_s)^2 + ((jj-1/2-(N_centre_y-1))*delta_s)^2 ) <= radius) \n",
    "                C_bEy[ii,jj] = 0;\n",
    "            end\n",
    "        end\n",
    "    end\n",
    "end \n",
    "\n",
    "if cube_present # Otherwise just leave it as free space\n",
    "    for x = N_centre_x_cub-Int(sides/(delta_s*2)):N_centre_x_cub+Int(sides/(delta_s*2))\n",
    "        for y = N_centre_y_cub-Int(sides/(delta_s*2)):N_centre_y_cub+Int(sides/(delta_s*2)) \n",
    "            if y < N_centre_y_cub+Int(sides/(delta_s*2))\n",
    "                C_bEy[x,y] = 0;\n",
    "            end\n",
    "            if x < N_centre_x_cub+Int(sides/(delta_s*2))\n",
    "                C_bEx[x,y] = 0;\n",
    "            end\n",
    "        end\n",
    "    end\n",
    "end "
   ]
  },
  {
   "cell_type": "code",
   "execution_count": 9,
   "id": "3cd419da-44bf-406e-af2f-7d054fd7eda9",
   "metadata": {},
   "outputs": [
    {
     "data": {
      "text/plain": [
       "100"
      ]
     },
     "execution_count": 9,
     "metadata": {},
     "output_type": "execute_result"
    }
   ],
   "source": [
    "# Set up storage for time histories.\n",
    "H_z_point1 = zeros(1,M)\n",
    "E_y_point1 = zeros(1,M)\n",
    "point1_x = Int(round(0.6*N_x))\n",
    "point1_y = Int(round(N_y/2))"
   ]
  },
  {
   "cell_type": "code",
   "execution_count": null,
   "id": "b60130d9-5d69-4e2c-a7bd-7ed78e9bf372",
   "metadata": {},
   "outputs": [],
   "source": [
    "sim_region = Figure()\n",
    "Axis(sim_region[1, 1], aspect = DataAspect(), title=\"Simulation region\")\n",
    "up_L=poly!(Rect(0,L,N_y,L), color = :grey)\n",
    "un_L=poly!(Rect(0,0,N_y,L), color = :black)\n",
    "\n",
    "if cyl_present\n",
    "    Cyl =poly!(Circle(Point2f0(\n",
    "        N_centre_y, N_centre_x),\n",
    "        radius/delta_s),\n",
    "        color = :orange,\n",
    "        strokecolor = :black,\n",
    "        strokewidth = 1\n",
    "    )\n",
    "end\n",
    "\n",
    "if cube_present\n",
    "    poly!(Rect(N_centre_y_cub,N_centre_x_cub,sides/delta_s,sides/delta_s), \n",
    "        color=:orange,\n",
    "        strokecolor = :black,\n",
    "        strokewidth = 1\n",
    "    )\n",
    "end\n",
    "\n",
    "meas=poly!(Circle(Point2f0(point1_y, point1_x), 1), color = :red)\n",
    "Legend(\n",
    "    sim_region[1, 2],\n",
    "    [up_L, un_L, Cyl, meas],\n",
    "    [\"Total field\", \"Scattered Field\", \"PEC\", \"Point of time history\"]\n",
    ")\n",
    "sim_region"
   ]
  },
  {
   "cell_type": "code",
   "execution_count": null,
   "id": "9915a26a-6a14-45db-a852-25bc475ebc38",
   "metadata": {},
   "outputs": [],
   "source": [
    "# First time step - Initialize values for H_z, E_x and E_y\n",
    "H_zx_nmin1 = zeros(N_x,N_y); \n",
    "H_zy_nmin1 = zeros(N_x,N_y); \n",
    "E_x_nmin1 = zeros(N_x,N_y); \n",
    "E_y_nmin1 = zeros(N_x,N_y); \n",
    "# Pre-allocation\n",
    "H_zx_n = zeros(N_x,N_y); \n",
    "H_zy_n = zeros(N_x,N_y); \n",
    "H_z_n = zeros(N_x,N_y); \n",
    "E_x_n = zeros(N_x,N_y); \n",
    "E_y_n = zeros(N_x,N_y);\n",
    "E_y_ninc = zeros(N_y);\n",
    "H_z_ninc = zeros(N_y);"
   ]
  },
  {
   "cell_type": "markdown",
   "id": "6d195db4-f046-4898-9cc8-c799080623bb",
   "metadata": {},
   "source": [
    "A normalized Gaussian derivative pulse:\n",
    "$$v_0(t) = - \\frac{e^{1/2}}{\\sigma}(t-m)e^{-(t-m)^2/2\\sigma^2}$$\n",
    "The normalizing constant $e^{1/2}/\\sigma$ provides a unit peak amplitude at $t - m = ± \\sigma$."
   ]
  },
  {
   "cell_type": "code",
   "execution_count": null,
   "id": "76f679ac-e2ec-4e79-b368-a96ad001fd36",
   "metadata": {},
   "outputs": [],
   "source": [
    "function gaussder_norm(t,m,sigma)\n",
    "    y = -exp(0.5)*(t-m)/sigma*exp(-(t-m)^2/(2*sigma^2))\n",
    "    return y\n",
    "end"
   ]
  },
  {
   "cell_type": "code",
   "execution_count": null,
   "id": "f7950288-fad3-42b6-82b1-1ea0fc005dff",
   "metadata": {},
   "outputs": [],
   "source": [
    "movieH = []\n",
    "gauss = []\n",
    "# Time loop\n",
    "for m = 2:M   \n",
    "    # Update H fields: \n",
    "    H_zx_n[1:N_x-1,1:N_y-1] = D_aHzx[1:N_x-1,1:N_y-1].*H_zx_nmin1[1:N_x-1,1:N_y-1] - \n",
    "        D_bHzx[1:N_x-1,1:N_y-1] .* (E_y_nmin1[2:N_x,1:N_y-1] - E_y_nmin1[1:N_x-1,1:N_y-1])\n",
    "    H_zy_n[1:N_x-1,1:N_y-1] = D_aHzy[1:N_x-1,1:N_y-1].*H_zy_nmin1[1:N_x-1,1:N_y-1] + \n",
    "        D_bHzy[1:N_x-1,1:N_y-1] .* (E_x_nmin1[1:N_x-1,2:N_y] - E_x_nmin1[1:N_x-1,1:N_y-1])\n",
    "    \n",
    "    if line_source \n",
    "        # Drive a test line hard source - used to check basic operation\n",
    "        H_z_n = H_zx_n+H_zy_n\n",
    "        H_z_n[Int(N_x/2),Int(N_y/2)] = gaussder_norm((m-1)*delta_t,m_offset,sigma)\n",
    "    else # Special update on scat/tot field boundary\n",
    "        E_y_nmin1_inc = ones(1,N_y)*Peak*gaussder_norm((m-1)*delta_t - (L-1)*delta_s/c,m_offset,sigma)\n",
    "        H_zx_n[L,1:N_y-1] += D_bHzx[L,1:N_y-1] .* E_y_nmin1_inc[1:N_y-1]\n",
    "        H_z_n = H_zx_n+H_zy_n\n",
    "    end\n",
    "    # Update E fields: note that latest H fields must be used.\n",
    "    E_x_n[2:N_x,2:N_y] = C_aEx[2:N_x,2:N_y] .* E_x_nmin1[2:N_x,2:N_y] + \n",
    "        C_bEx[2:N_x,2:N_y] .* (H_z_n[2:N_x,2:N_y] - H_z_n[2:N_x,1:N_y-1])\n",
    "    E_y_n[2:N_x,2:N_y] = C_aEy[2:N_x,2:N_y] .* E_y_nmin1[2:N_x,2:N_y] - \n",
    "        C_bEy[2:N_x,2:N_y] .* (H_z_n[2:N_x,2:N_y] - H_z_n[1:N_x-1,2:N_y])\n",
    "\n",
    "    if !line_source \n",
    "        # Special update on scat/tot field boundary (only needed for Ey)\n",
    "        H_z_n_inc = ones(1,N_y)*(Peak/eta_0)*gaussder_norm((m-1/2)*delta_t - (L-1/2)*delta_s/c,m_offset,sigma)\n",
    "        E_y_n[L,2:N_y] += C_bEy[L,2:N_y] .* H_z_n_inc[2:N_y]\n",
    "        H_z_ninc = H_z_n_inc\n",
    "    end\n",
    "    \n",
    "    # Fix outer values of E_tangential as PEC:\n",
    "    E_y_n[1,:] .= 0\n",
    "    E_y_n[N_x,:] .= 0\n",
    "    E_x_n[:,1] .= 0\n",
    "    E_x_n[:,N_y] .= 0\n",
    "\n",
    "    # Movie\n",
    "    push!(movieH, (eta_0 .* H_z_n))\n",
    "    \n",
    "    #Time history\n",
    "    H_z_point1[m] = H_z_n[point1_x,point1_y]\n",
    "    E_y_point1[m] = E_y_n[point1_x,point1_y]\n",
    "    \n",
    "    # Update for next iteration\n",
    "    H_zx_nmin1 = H_zx_n\n",
    "    H_zy_nmin1 = H_zy_n\n",
    "    E_x_nmin1 = E_x_n\n",
    "    E_y_nmin1 = E_y_n\n",
    "end"
   ]
  },
  {
   "cell_type": "code",
   "execution_count": null,
   "id": "ffeb4efe-c574-4c56-b103-4dce0d420a97",
   "metadata": {},
   "outputs": [],
   "source": [
    "time=(range(0,M-1, step=1) |> collect)*delta_t\n",
    "Plots.plot(time/1e-9,transpose(E_y_point1))\n",
    "Plots.xlabel!(L\"Zeit \\ [ns]\")\n",
    "Plots.ylabel!(L\"E_y\")"
   ]
  },
  {
   "cell_type": "code",
   "execution_count": null,
   "id": "8922ecf4-80cd-464e-bb41-2dc6760d58fa",
   "metadata": {},
   "outputs": [],
   "source": [
    "plotsizeX = 400*sizeX\n",
    "plotsizeY = 400*sizeY\n",
    "anim = @animate for i in 1:5:length(movieH)\n",
    "    Plots.plot(\n",
    "        [1:N_y],[1:N_x],\n",
    "        movieH[i],\n",
    "        st=:surface,\n",
    "        camera=(0,90),\n",
    "        zlim=(-1,1), \n",
    "        colorbar=false, \n",
    "        size=(plotsizeX, plotsizeY),\n",
    "        axis=nothing\n",
    "    )\n",
    "    Plots.title!(\"Propagation of the simulated TE-Wave\")\n",
    "end\n",
    "gif(anim, fps=10)"
   ]
  }
 ],
 "metadata": {
  "kernelspec": {
   "display_name": "Julia 1.6.1",
   "language": "julia",
   "name": "julia-1.6"
  },
  "language_info": {
   "file_extension": ".jl",
   "mimetype": "application/julia",
   "name": "julia",
   "version": "1.6.1"
  }
 },
 "nbformat": 4,
 "nbformat_minor": 5
}
